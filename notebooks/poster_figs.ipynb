{
 "cells": [
  {
   "cell_type": "code",
   "execution_count": 46,
   "metadata": {},
   "outputs": [],
   "source": [
    "import logging\n",
    "from typing import Optional\n",
    "\n",
    "import matplotlib.pyplot as plt\n",
    "import anndata\n",
    "from scipy.sparse import csr_matrix\n",
    "\n",
    "# Obtain a pre-defined logger\n",
    "logger = logging.getLogger(__name__)\n",
    "\n",
    "\n",
    "def create_histogram_from_adata(\n",
    "    adata: anndata.AnnData,\n",
    "    expression_key: str = \"X\",\n",
    "    bins: int = 50,\n",
    "    svg_output: Optional[str] = None,\n",
    "    label_fontsize: int = 14,\n",
    "    tick_fontsize: int = 12,\n",
    ") -> None:\n",
    "    \"\"\"\n",
    "    Create a histogram of expression values from a given AnnData object.\n",
    "\n",
    "    This function takes an AnnData object, extracts its expression values (either\n",
    "    from `adata.X` or a specified layer), and creates a histogram of the flattened\n",
    "    expression data. Note that you should perform any log transformations before\n",
    "    calling this function if you want to visualize log-scaled data.\n",
    "\n",
    "    Parameters\n",
    "    ----------\n",
    "    adata : anndata.AnnData\n",
    "        The AnnData object containing transcriptomic data from a single sample or\n",
    "        multiple samples. This data is presumably sourced from RNA-seq or single-cell\n",
    "        experiments. Provide references to the original dataset where appropriate.\n",
    "    expression_key : str, optional\n",
    "        The key specifying which matrix to use for extracting expression values.\n",
    "        - If set to \"X\", the data will be taken from `adata.X`.\n",
    "        - Otherwise, it will be taken from `adata.layers[expression_key]`.\n",
    "        Defaults to \"X\".\n",
    "    bins : int, optional\n",
    "        The number of bins to use for the histogram. Defaults to 50.\n",
    "    svg_output : str, optional\n",
    "        If provided, saves the resulting plot as an SVG file at the specified path.\n",
    "        If `None`, the plot will simply be displayed without being saved.\n",
    "        Defaults to None.\n",
    "\n",
    "    Returns\n",
    "    -------\n",
    "    None\n",
    "        The function generates a histogram plot and either displays it or saves it\n",
    "        as an SVG file, depending on the `svg_output` argument.\n",
    "\n",
    "    Notes\n",
    "    -----\n",
    "    1. Ensure that the expression data is log-transformed beforehand if you want a\n",
    "       log-scaled histogram.\n",
    "    2. Large datasets might require adjustments (e.g., `bins` or figure size) to\n",
    "       improve readability.\n",
    "    3. Provide references to the source of the data in your manuscript or figure\n",
    "       caption as needed.\n",
    "    \"\"\"\n",
    "    logger.info(\"Starting histogram creation from AnnData object.\")\n",
    "\n",
    "    # Extract expression data from adata\n",
    "    if expression_key == \"X\":\n",
    "        data = adata.X\n",
    "        logger.debug(\"Using 'X' matrix from adata.\")\n",
    "    else:\n",
    "        if expression_key not in adata.layers:\n",
    "            logger.error(\n",
    "                f\"Expression key '{expression_key}' not found in adata.layers.\"\n",
    "            )\n",
    "            raise ValueError(\n",
    "                f\"Expression key '{expression_key}' not found in adata.layers.\"\n",
    "            )\n",
    "        data = adata.layers[expression_key]\n",
    "        logger.debug(f\"Using layer '{expression_key}' from adata.\")\n",
    "\n",
    "    if isinstance(data, csr_matrix):\n",
    "        data = data.toarray()\n",
    "    # Convert to 1D numpy array for histogram\n",
    "    expression_values = data.flatten()\n",
    "    logger.debug(f\"Extracted {expression_values.size} total expression values.\")\n",
    "\n",
    "    # Create the histogram\n",
    "    plt.figure(figsize=(8, 6))\n",
    "    plt.hist(expression_values, bins=bins, color=\"skyblue\", edgecolor=\"black\")\n",
    "    plt.xlabel(\"log2 expression\", fontsize=label_fontsize)\n",
    "    plt.ylabel(None, fontsize=label_fontsize)\n",
    "    plt.xticks(fontsize=tick_fontsize)\n",
    "    plt.yticks(fontsize=tick_fontsize)\n",
    "    plt.tight_layout()\n",
    "    plt.tight_layout()\n",
    "\n",
    "    # Save or display\n",
    "    if svg_output is not None:\n",
    "        plt.savefig(svg_output, format=\"svg\")\n",
    "        logger.info(f\"Histogram saved as SVG at: {svg_output}\")\n",
    "    else:\n",
    "        plt.show()\n",
    "        logger.info(\"Histogram displayed on screen.\")\n",
    "\n",
    "    logger.info(\"Histogram creation completed.\")"
   ]
  },
  {
   "cell_type": "code",
   "execution_count": 50,
   "metadata": {},
   "outputs": [
    {
     "name": "stderr",
     "output_type": "stream",
     "text": [
      "/Users/mengerj/repos/adata_hf_datasets/.venv/lib/python3.12/site-packages/anndata/__init__.py:52: FutureWarning: `anndata.read` is deprecated, use `anndata.read_h5ad` instead. `ad.read` will be removed in mid 2024.\n",
      "  warnings.warn(\n"
     ]
    }
   ],
   "source": [
    "import anndata\n",
    "import scanpy as sc\n",
    "\n",
    "adata = anndata.read(\"../data/RNA/raw/train/cellxgene_pseudo_bulk_3_5k.h5ad\")"
   ]
  },
  {
   "cell_type": "code",
   "execution_count": 39,
   "metadata": {},
   "outputs": [
    {
     "data": {
      "text/plain": [
       "AnnData object with n_obs × n_vars = 7000 × 67186\n",
       "    obs: 'geo_id', 'accession', 'sample_type', 'sample_type_confidence', 'mapped_ontology_ids', 'mapped_ontology_terms', 'real_value_property_ids', 'real_value_property_terms', 'sra_uid', 'biosample_uid', 'biosample_title', 'raw_biosample_metadata', 'organism', 'biosample', 'database', 'accession_type', 'sample', 'study', 'bioproject', 'geo_metadata', 'molecule_ch1', 'readsaligned', 'relation', 'series_id', 'singlecellprobability', 'geo_source_name', 'geo_title', 'treatment', 'treatment_protocol', 'growth_protocol', 'series_submission_date', 'series_summary', 'series_design', 'natural_language_annotation', 'transcriptome_weights', 'annotation_weights'\n",
       "    var: 'biotype', 'gene_name'\n",
       "    obsm: 'natural_language_annotation_replicates'"
      ]
     },
     "execution_count": 39,
     "metadata": {},
     "output_type": "execute_result"
    }
   ],
   "source": [
    "adata"
   ]
  },
  {
   "cell_type": "code",
   "execution_count": 51,
   "metadata": {},
   "outputs": [],
   "source": [
    "sc.pp.log1p(adata)\n",
    "sc.pp.filter_genes(adata, min_cells=1000)"
   ]
  },
  {
   "cell_type": "code",
   "execution_count": 55,
   "metadata": {},
   "outputs": [
    {
     "data": {
      "image/png": "[encoded data removed]",
      "text/plain": [
       "<Figure size 800x600 with 1 Axes>"
      ]
     },
     "metadata": {},
     "output_type": "display_data"
    }
   ],
   "source": [
    "create_histogram_from_adata(\n",
    "    adata,\n",
    "    expression_key=\"X\",\n",
    "    bins=50,\n",
    "    svg_output=\"histogram.svg\",\n",
    "    label_fontsize=26,\n",
    "    tick_fontsize=20,\n",
    ")"
   ]
  }
 ],
 "metadata": {
  "kernelspec": {
   "display_name": ".venv",
   "language": "python",
   "name": "python3"
  },
  "language_info": {
   "codemirror_mode": {
    "name": "ipython",
    "version": 3
   },
   "file_extension": ".py",
   "mimetype": "text/x-python",
   "name": "python",
   "nbconvert_exporter": "python",
   "pygments_lexer": "ipython3",
   "version": "3.12.8"
  }
 },
 "nbformat": 4,
 "nbformat_minor": 2
}
