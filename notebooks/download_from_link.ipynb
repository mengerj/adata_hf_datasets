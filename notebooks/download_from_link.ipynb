{
 "cells": [
  {
   "cell_type": "code",
   "execution_count": 13,
   "metadata": {},
   "outputs": [
    {
     "name": "stdout",
     "output_type": "stream",
     "text": [
      "\n",
      "Download failed: 403 Client Error: Forbidden for url: https://medical-epigenomics.org/papers/schaefer2024/data/datasets/archs4_geo/full_data.h5ad\n"
     ]
    },
    {
     "data": {
      "text/plain": [
       "False"
      ]
     },
     "execution_count": 13,
     "metadata": {},
     "output_type": "execute_result"
    }
   ],
   "source": [
    "from adata_hf_datasets.file_utils import download_from_link\n",
    "\n",
    "url = \"https://medical-epigenomics.org/papers/schaefer2024/data/datasets/archs4_geo/full_data.h5ad\"\n",
    "save_path = \"../data/RNA/raw/geo_full.h5ad\"\n",
    "download_from_link(url, save_path)"
   ]
  },
  {
   "cell_type": "code",
   "execution_count": 7,
   "metadata": {},
   "outputs": [],
   "source": [
    "import anndata\n",
    "\n",
    "adata = anndata.read_h5ad(\"../data/RNA/raw/train/geo_7k.h5ad\")"
   ]
  },
  {
   "cell_type": "code",
   "execution_count": 5,
   "metadata": {},
   "outputs": [],
   "source": [
    "# read the file and save a subset of 10k random cells\n",
    "import scanpy as sc\n",
    "import numpy as np\n",
    "\n",
    "adata = sc.read_h5ad(save_path)\n",
    "adata = adata[np.random.choice(adata.obs.index, 10000, replace=False)]\n",
    "adata.write_h5ad(\"../data/RNA/cellxgene_pseudo_bulk_10k.h5ad\")"
   ]
  }
 ],
 "metadata": {
  "kernelspec": {
   "display_name": ".venv",
   "language": "python",
   "name": "python3"
  },
  "language_info": {
   "codemirror_mode": {
    "name": "ipython",
    "version": 3
   },
   "file_extension": ".py",
   "mimetype": "text/x-python",
   "name": "python",
   "nbconvert_exporter": "python",
   "pygments_lexer": "ipython3",
   "version": "3.12.8"
  }
 },
 "nbformat": 4,
 "nbformat_minor": 2
}
