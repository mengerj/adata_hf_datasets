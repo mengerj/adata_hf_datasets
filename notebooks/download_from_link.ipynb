{
 "cells": [
  {
   "cell_type": "code",
   "execution_count": 2,
   "metadata": {},
   "outputs": [],
   "source": [
    "import requests\n",
    "from tqdm import tqdm\n",
    "\n",
    "def download_file(url, save_path):\n",
    "    \"\"\"\n",
    "    Download a file with a progress bar.\n",
    "\n",
    "    Parameters\n",
    "    ----------\n",
    "    url : str\n",
    "        The direct URL to the file.\n",
    "    save_path : str\n",
    "        The local file path to save the downloaded file.\n",
    "\n",
    "    Returns\n",
    "    -------\n",
    "    bool\n",
    "        True if the download was successful, False otherwise.\n",
    "    \"\"\"\n",
    "    try:\n",
    "        response = requests.get(url, stream=True)\n",
    "        response.raise_for_status()  # Raise an error for failed requests (e.g., 404, 403)\n",
    "\n",
    "        # Get total file size from headers\n",
    "        total_size = int(response.headers.get(\"content-length\", 0))\n",
    "\n",
    "        # Download with progress bar\n",
    "        with open(save_path, \"wb\") as file, tqdm(\n",
    "            desc=save_path,\n",
    "            total=total_size,\n",
    "            unit=\"B\",\n",
    "            unit_scale=True,\n",
    "            unit_divisor=1024,\n",
    "        ) as bar:\n",
    "            for chunk in response.iter_content(chunk_size=8192):\n",
    "                file.write(chunk)\n",
    "                bar.update(len(chunk))  # Update progress bar\n",
    "\n",
    "        print(f\"\\nDownload complete: {save_path}\")\n",
    "        return True\n",
    "    except requests.exceptions.RequestException as e:\n",
    "        print(f\"\\nDownload failed: {e}\")\n",
    "        return False"
   ]
  },
  {
   "cell_type": "code",
   "execution_count": 3,
   "metadata": {},
   "outputs": [
    {
     "name": "stderr",
     "output_type": "stream",
     "text": [
      "../data/RNA/geo_full.h5ad: 100%|██████████| 163G/163G [21:52<00:00, 134MB/s]    \n"
     ]
    },
    {
     "name": "stdout",
     "output_type": "stream",
     "text": [
      "\n",
      "Download complete: ../data/RNA/geo_full.h5ad\n"
     ]
    },
    {
     "data": {
      "text/plain": [
       "True"
      ]
     },
     "execution_count": 3,
     "metadata": {},
     "output_type": "execute_result"
    }
   ],
   "source": [
    "url = \"https://medical-epigenomics.org/papers/schaefer2024/data/datasets/archs4_geo/full_data.h5ad\"\n",
    "save_path = \"../data/RNA/geo_full.h5ad\"\n",
    "download_file(url, save_path)"
   ]
  },
  {
   "cell_type": "code",
   "execution_count": 5,
   "metadata": {},
   "outputs": [],
   "source": [
    "#read the file and save a subset of 10k random cells\n",
    "import scanpy as sc\n",
    "import numpy as np\n",
    "adata = sc.read_h5ad(save_path)\n",
    "adata = adata[np.random.choice(adata.obs.index, 10000, replace=False)]\n",
    "adata.write_h5ad(\"../data/RNA/cellxgene_pseudo_bulk_10k.h5ad\")"
   ]
  }
 ],
 "metadata": {
  "kernelspec": {
   "display_name": ".venv",
   "language": "python",
   "name": "python3"
  },
  "language_info": {
   "codemirror_mode": {
    "name": "ipython",
    "version": 3
   },
   "file_extension": ".py",
   "mimetype": "text/x-python",
   "name": "python",
   "nbconvert_exporter": "python",
   "pygments_lexer": "ipython3",
   "version": "3.10.10"
  }
 },
 "nbformat": 4,
 "nbformat_minor": 2
}
