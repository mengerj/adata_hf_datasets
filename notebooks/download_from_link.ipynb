{
 "cells": [
  {
   "cell_type": "code",
   "execution_count": 1,
   "metadata": {},
   "outputs": [
    {
     "name": "stderr",
     "output_type": "stream",
     "text": [
      "../data/RNA/raw/tabula_sapiens_bone_marrow.h5ad: 100%|██████████| 994M/994M [02:30<00:00, 6.93MB/s] \n"
     ]
    },
    {
     "name": "stdout",
     "output_type": "stream",
     "text": [
      "\n",
      "Download complete: ../data/RNA/raw/tabula_sapiens_bone_marrow.h5ad\n"
     ]
    },
    {
     "data": {
      "text/plain": [
       "True"
      ]
     },
     "execution_count": 1,
     "metadata": {},
     "output_type": "execute_result"
    }
   ],
   "source": [
    "from adata_hf_datasets.file_utils import download_from_link\n",
    "\n",
    "url = \"https://datasets.cellxgene.cziscience.com/f886c7d9-1392-4f09-9e10-31b953afa2da.h5ad\"\n",
    "save_path = \"../data/RNA/raw/tabula_sapiens_bone_marrow.h5ad\"\n",
    "download_from_link(url, save_path)"
   ]
  },
  {
   "cell_type": "code",
   "execution_count": 7,
   "metadata": {},
   "outputs": [],
   "source": [
    "import anndata\n",
    "\n",
    "adata = anndata.read_h5ad(\"../data/RNA/raw/train/geo_7k.h5ad\")"
   ]
  },
  {
   "cell_type": "code",
   "execution_count": 5,
   "metadata": {},
   "outputs": [],
   "source": [
    "# read the file and save a subset of 10k random cells\n",
    "import scanpy as sc\n",
    "import numpy as np\n",
    "\n",
    "adata = sc.read_h5ad(save_path)\n",
    "adata = adata[np.random.choice(adata.obs.index, 10000, replace=False)]\n",
    "adata.write_h5ad(\"../data/RNA/cellxgene_pseudo_bulk_10k.h5ad\")"
   ]
  }
 ],
 "metadata": {
  "kernelspec": {
   "display_name": ".venv",
   "language": "python",
   "name": "python3"
  },
  "language_info": {
   "codemirror_mode": {
    "name": "ipython",
    "version": 3
   },
   "file_extension": ".py",
   "mimetype": "text/x-python",
   "name": "python",
   "nbconvert_exporter": "python",
   "pygments_lexer": "ipython3",
   "version": "3.12.8"
  }
 },
 "nbformat": 4,
 "nbformat_minor": 2
}
