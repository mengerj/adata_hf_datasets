{
 "cells": [
  {
   "cell_type": "code",
   "execution_count": 1,
   "metadata": {},
   "outputs": [
    {
     "name": "stderr",
     "output_type": "stream",
     "text": [
      "../data/RNA/raw/test/tabula_sapiens_v2_blood.h5ad: 1.14GB [04:23, 4.65MB/s]                               "
     ]
    },
    {
     "name": "stdout",
     "output_type": "stream",
     "text": [
      "\n",
      "Download complete: ../data/RNA/raw/test/tabula_sapiens_v2_blood.h5ad\n"
     ]
    },
    {
     "name": "stderr",
     "output_type": "stream",
     "text": [
      "\n"
     ]
    },
    {
     "data": {
      "text/plain": [
       "True"
      ]
     },
     "execution_count": 1,
     "metadata": {},
     "output_type": "execute_result"
    }
   ],
   "source": [
    "from adata_hf_datasets.file_utils import download_from_link\n",
    "\n",
    "# url = \"https://datasets.cellxgene.cziscience.com/f886c7d9-1392-4f09-9e10-31b953afa2da.h5ad\"\n",
    "# url = \"https://datasets.cellxgene.cziscience.com/bbf12ff4-7f22-4cf5-83cf-9cd37ce4d6f4.h5ad\"\n",
    "# url = \"https://allenimmunology.org/public/publication/download/84792154-cdfb-42d0-8e42-39e210e980b4/filesets/3a6afb68-0379-4afa-838a-c0b7f222b517/immune_health_atlas_b-plasma.h5ad\"\n",
    "# url = \"https://datasets.cellxgene.cziscience.com/9daa676b-07ec-4cea-80aa-daa49200aa64.h5ad\"\n",
    "# url = \"https://medical-epigenomics.org/papers/schaefer2024/data/datasets/human_disease/rnaseq._.samples.h5ad\"\n",
    "url = \"https://figshare.com/ndownloader/files/50850783\"\n",
    "save_path = \"../data/RNA/raw/test/tabula_sapiens_v2_blood.h5ad\"\n",
    "download_from_link(url, save_path)"
   ]
  },
  {
   "cell_type": "code",
   "execution_count": null,
   "metadata": {},
   "outputs": [
    {
     "data": {
      "text/plain": [
       "Index(['donor', 'tissue', 'anatomical_position', 'method', 'cdna_plate',\n",
       "       'library_plate', 'notes', 'cdna_well', 'old_index', 'assay',\n",
       "       'sample_id', 'replicate', '10X_run', '10X_barcode', 'ambient_removal',\n",
       "       'donor_method', 'donor_assay', 'donor_tissue', 'donor_tissue_assay',\n",
       "       'cell_ontology_class', 'cell_ontology_id', 'compartment',\n",
       "       'broad_cell_class', 'free_annotation', 'manually_annotated',\n",
       "       'published_2022', 'n_genes_by_counts', 'total_counts',\n",
       "       'total_counts_mt', 'pct_counts_mt', 'total_counts_ercc',\n",
       "       'pct_counts_ercc', '_scvi_batch', '_scvi_labels',\n",
       "       'scvi_leiden_donorassay_full', 'age', 'sex', 'ethnicity',\n",
       "       'scvi_leiden_res05_tissue', 'sample_number'],\n",
       "      dtype='object')"
      ]
     },
     "execution_count": 1,
     "metadata": {},
     "output_type": "execute_result"
    }
   ],
   "source": [
    "import anndata\n",
    "\n",
    "adata = anndata.read_h5ad(save_path)\n",
    "adata.obs.keys()"
   ]
  }
 ],
 "metadata": {
  "kernelspec": {
   "display_name": ".venv",
   "language": "python",
   "name": "python3"
  },
  "language_info": {
   "codemirror_mode": {
    "name": "ipython",
    "version": 3
   },
   "file_extension": ".py",
   "mimetype": "text/x-python",
   "name": "python",
   "nbconvert_exporter": "python",
   "pygments_lexer": "ipython3",
   "version": "3.12.8"
  }
 },
 "nbformat": 4,
 "nbformat_minor": 2
}
