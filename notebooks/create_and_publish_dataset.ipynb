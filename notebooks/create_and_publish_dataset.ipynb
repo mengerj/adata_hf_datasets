{
 "cells": [
  {
   "cell_type": "markdown",
   "metadata": {},
   "source": [
    "### Creating and publishing a hugging face dataset with references to anndata files. \n",
    "\n",
    "Can for example be used to train multimodal models with mmcontext\n",
    "\n",
    "Use the initial embedder to include some initial embeddings into our anndata object which can then be used later."
   ]
  },
  {
   "cell_type": "code",
   "execution_count": 39,
   "metadata": {},
   "outputs": [
    {
     "name": "stdout",
     "output_type": "stream",
     "text": [
      "The autoreload extension is already loaded. To reload it, use:\n",
      "  %reload_ext autoreload\n"
     ]
    }
   ],
   "source": [
    "%load_ext autoreload\n",
    "%autoreload 2"
   ]
  },
  {
   "cell_type": "code",
   "execution_count": 74,
   "metadata": {},
   "outputs": [],
   "source": [
    "import anndata\n",
    "\n",
    "adata = anndata.read_h5ad(\"../data/scRNA/raw/bowel_disease.h5ad\")"
   ]
  },
  {
   "cell_type": "code",
   "execution_count": 75,
   "metadata": {},
   "outputs": [],
   "source": [
    "# Delete objects that are not needed and are taking up space\n",
    "del adata.obsm[\"X_cellwhisperer_umap\"]"
   ]
  },
  {
   "cell_type": "code",
   "execution_count": 41,
   "metadata": {},
   "outputs": [],
   "source": [
    "# get a subsampke of 1000 random cells\n",
    "# import numpy as np\n",
    "# np.random.seed(0)\n",
    "# adata = adata[np.random.choice(adata.obs.index, 1000, replace=False), :]"
   ]
  },
  {
   "cell_type": "code",
   "execution_count": 76,
   "metadata": {},
   "outputs": [],
   "source": [
    "adata.layers[\"counts\"] = adata.X.copy()"
   ]
  },
  {
   "cell_type": "code",
   "execution_count": 77,
   "metadata": {},
   "outputs": [],
   "source": [
    "from adata_hf_datasets.initial_embedder import InitialEmbedder\n",
    "\n",
    "method = \"pca\"\n",
    "embedder = InitialEmbedder(method=method)\n",
    "embedder.fit(adata)\n",
    "embedder.embed(adata)"
   ]
  },
  {
   "cell_type": "code",
   "execution_count": 78,
   "metadata": {},
   "outputs": [],
   "source": [
    "from adata_hf_datasets.utils import split_anndata\n",
    "import os\n",
    "\n",
    "train_path = f\"../data/scRNA/processed/{method}/train/bowel_disease.h5ad\"\n",
    "test_path = f\"../data/scRNA/processed/{method}/test/bowel_disease.h5ad\"\n",
    "os.makedirs(os.path.dirname(train_path), exist_ok=True)\n",
    "os.makedirs(os.path.dirname(test_path), exist_ok=True)\n",
    "train_data, test_adata = split_anndata(adata, train_size=0.9)\n",
    "train_data.write(train_path)\n",
    "test_adata.write(test_path)"
   ]
  },
  {
   "cell_type": "code",
   "execution_count": 79,
   "metadata": {},
   "outputs": [],
   "source": [
    "train_remote_path = f\"datasets/{method}/train/bowel_disease.h5ad\"\n",
    "test_remote_path = f\"datasets/{method}/test/bowel_disease.h5ad\""
   ]
  },
  {
   "cell_type": "code",
   "execution_count": 80,
   "metadata": {},
   "outputs": [],
   "source": [
    "from dotenv import load_dotenv\n",
    "\n",
    "load_dotenv(override=True)\n",
    "nextcloud_config = {\n",
    "    \"url\": \"https://nxc-fredato.imbi.uni-freiburg.de\",\n",
    "    \"username\": \"NEXTCLOUD_USER\",  # env will we obtained within code\n",
    "    \"password\": \"NEXTCLOUD_PASSWORD\",\n",
    "    \"remote_path\": train_remote_path,\n",
    "}"
   ]
  },
  {
   "cell_type": "code",
   "execution_count": 81,
   "metadata": {},
   "outputs": [
    {
     "name": "stdout",
     "output_type": "stream",
     "text": [
      "Directory already exists: datasets\n",
      "Directory already exists: pca\n",
      "Directory already exists: train\n",
      "File is a valid .h5ad file.\n",
      "Directory already exists: datasets\n",
      "Directory already exists: pca\n",
      "Directory already exists: train\n",
      "File is a valid .h5ad file.\n"
     ]
    }
   ],
   "source": [
    "from adata_hf_datasets.adata_ref_ds import AnnDataSetConstructor\n",
    "from adata_hf_datasets.adata_ref_ds import SimpleCaptionConstructor\n",
    "\n",
    "# Create caption constructor with desired obs keys\n",
    "for split, path in zip([\"train\", \"test\"], [train_remote_path, test_remote_path]):\n",
    "    caption_constructor = SimpleCaptionConstructor(obs_keys=[\"cluster_label\"])\n",
    "    constructor = AnnDataSetConstructor(\n",
    "        caption_constructor=caption_constructor,\n",
    "        store_nextcloud=True,\n",
    "        nextcloud_config=nextcloud_config,\n",
    "        push_to_hf=True,\n",
    "        hf_username=\"jo-mengr\",\n",
    "        dataset_name=f\"bowel_disease_{method}_{split}\",\n",
    "    )\n",
    "    constructor.add_anndata(file_path=train_path)\n",
    "    # Get dataset\n",
    "    dataset = constructor.get_dataset()"
   ]
  }
 ],
 "metadata": {
  "kernelspec": {
   "display_name": ".venv",
   "language": "python",
   "name": "python3"
  },
  "language_info": {
   "codemirror_mode": {
    "name": "ipython",
    "version": 3
   },
   "file_extension": ".py",
   "mimetype": "text/x-python",
   "name": "python",
   "nbconvert_exporter": "python",
   "pygments_lexer": "ipython3",
   "version": "3.12.8"
  }
 },
 "nbformat": 4,
 "nbformat_minor": 2
}
