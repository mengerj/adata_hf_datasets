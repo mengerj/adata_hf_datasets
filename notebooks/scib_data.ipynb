{
 "cells": [
  {
   "cell_type": "code",
   "execution_count": 3,
   "metadata": {},
   "outputs": [],
   "source": [
    "%load_ext autoreload\n",
    "%autoreload 2"
   ]
  },
  {
   "cell_type": "code",
   "execution_count": 2,
   "metadata": {},
   "outputs": [
    {
     "data": {
      "text/plain": [
       "<RootLogger root (INFO)>"
      ]
     },
     "execution_count": 2,
     "metadata": {},
     "output_type": "execute_result"
    }
   ],
   "source": [
    "from adata_hf_datasets.utils import setup_logging\n",
    "\n",
    "setup_logging()"
   ]
  },
  {
   "cell_type": "code",
   "execution_count": 5,
   "metadata": {},
   "outputs": [
    {
     "name": "stderr",
     "output_type": "stream",
     "text": [
      "2025-02-07 13:08:28,482 - adata_hf_datasets.download_and_split_data - INFO - Starting download from Figshare...\n"
     ]
    },
    {
     "name": "stdout",
     "output_type": "stream",
     "text": [
      "File: human_pancreas_norm_complexBatch.h5ad, Size: 0.29 GB\n"
     ]
    },
    {
     "name": "stderr",
     "output_type": "stream",
     "text": [
      "Downloading: 100%|██████████| 316M/316M [01:14<00:00, 4.25MiB/s] \n",
      "2025-02-07 13:09:43,357 - adata_hf_datasets.download_and_split_data - INFO - Data downloaded successfully and saved to ../..//data/scib_data/original/human_pancreas_norm_complexBatch.h5ad.\n",
      "2025-02-07 13:09:43,360 - adata_hf_datasets.download_and_split_data - INFO - Starting download from Figshare...\n"
     ]
    },
    {
     "name": "stdout",
     "output_type": "stream",
     "text": [
      "File: Lung_atlas_public.h5ad, Size: 0.95 GB\n"
     ]
    },
    {
     "name": "stderr",
     "output_type": "stream",
     "text": [
      "Downloading: 100%|██████████| 1.02G/1.02G [03:38<00:00, 4.66MiB/s]\n",
      "2025-02-07 13:13:22,789 - adata_hf_datasets.download_and_split_data - INFO - Data downloaded successfully and saved to ../..//data/scib_data/original/Lung_atlas_public.h5ad.\n",
      "2025-02-07 13:13:26,279 - adata_hf_datasets.download_and_split_data - INFO - Loaded AnnData object with 16382 samples and 19093 features.\n"
     ]
    }
   ],
   "source": [
    "from adata_hf_datasets.download_and_split_data import download_and_split\n",
    "\n",
    "repo_dir = \"../../\"\n",
    "download_and_split(repo_dir, split=False)"
   ]
  }
 ],
 "metadata": {
  "kernelspec": {
   "display_name": ".venv",
   "language": "python",
   "name": "python3"
  },
  "language_info": {
   "codemirror_mode": {
    "name": "ipython",
    "version": 3
   },
   "file_extension": ".py",
   "mimetype": "text/x-python",
   "name": "python",
   "nbconvert_exporter": "python",
   "pygments_lexer": "ipython3",
   "version": "3.12.8"
  }
 },
 "nbformat": 4,
 "nbformat_minor": 2
}
