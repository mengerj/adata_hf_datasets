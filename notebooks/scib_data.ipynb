{
 "cells": [
  {
   "cell_type": "code",
   "execution_count": 3,
   "metadata": {},
   "outputs": [],
   "source": [
    "%load_ext autoreload\n",
    "%autoreload 2"
   ]
  },
  {
   "cell_type": "code",
   "execution_count": 3,
   "metadata": {},
   "outputs": [
    {
     "data": {
      "text/plain": [
       "<RootLogger root (INFO)>"
      ]
     },
     "execution_count": 3,
     "metadata": {},
     "output_type": "execute_result"
    }
   ],
   "source": [
    "from adata_hf_datasets.utils import setup_logging\n",
    "setup_logging()"
   ]
  },
  {
   "cell_type": "code",
   "execution_count": 4,
   "metadata": {},
   "outputs": [
    {
     "name": "stderr",
     "output_type": "stream",
     "text": [
      "2025-02-10 09:59:57,529 - adata_hf_datasets.download_and_split_data - INFO - Downloading File: human_pancreas_norm_complexBatch.h5ad, Size: 0.29 GB\n",
      "2025-02-10 09:59:57,532 - adata_hf_datasets.download_and_split_data - INFO - Starting download from Figshare...\n",
      "Downloading: 100%|██████████| 316M/316M [00:09<00:00, 32.5MiB/s] \n",
      "2025-02-10 10:00:07,611 - adata_hf_datasets.download_and_split_data - INFO - Data downloaded successfully and saved to ../data/raw/test/human_pancreas_norm_complexBatch.h5ad.\n",
      "2025-02-10 10:00:07,612 - adata_hf_datasets.download_and_split_data - INFO - Downloading File: Lung_atlas_public.h5ad, Size: 0.95 GB\n",
      "2025-02-10 10:00:07,634 - adata_hf_datasets.download_and_split_data - INFO - Starting download from Figshare...\n",
      "Downloading: 100%|██████████| 1.02G/1.02G [00:19<00:00, 52.4MiB/s]\n",
      "2025-02-10 10:00:27,423 - adata_hf_datasets.download_and_split_data - INFO - Data downloaded successfully and saved to ../data/raw/test/Lung_atlas_public.h5ad.\n",
      "2025-02-10 10:00:27,425 - adata_hf_datasets.download_and_split_data - INFO - Downloading File: Immune_ALL_hum_mou.h5ad, Size: 3.97 GB\n",
      "2025-02-10 10:00:27,451 - adata_hf_datasets.download_and_split_data - INFO - Starting download from Figshare...\n",
      "Downloading: 100%|██████████| 4.27G/4.27G [01:49<00:00, 39.0MiB/s]\n",
      "2025-02-10 10:02:17,443 - adata_hf_datasets.download_and_split_data - INFO - Data downloaded successfully and saved to ../data/raw/test/Immune_ALL_hum_mou.h5ad.\n",
      "2025-02-10 10:02:17,446 - adata_hf_datasets.download_and_split_data - INFO - Downloading File: Immune_ALL_human.h5ad, Size: 1.92 GB\n",
      "2025-02-10 10:02:17,460 - adata_hf_datasets.download_and_split_data - INFO - Starting download from Figshare...\n",
      "Downloading: 100%|██████████| 2.06G/2.06G [00:38<00:00, 53.0MiB/s]\n",
      "2025-02-10 10:02:56,933 - adata_hf_datasets.download_and_split_data - INFO - Data downloaded successfully and saved to ../data/raw/test/Immune_ALL_human.h5ad.\n",
      "2025-02-10 10:02:56,935 - adata_hf_datasets.download_and_split_data - INFO - Downloading File: large_atac_peaks.h5ad, Size: 2.27 GB\n",
      "2025-02-10 10:02:56,941 - adata_hf_datasets.download_and_split_data - INFO - Starting download from Figshare...\n",
      "Downloading: 100%|██████████| 2.43G/2.43G [00:30<00:00, 80.8MiB/s]\n",
      "2025-02-10 10:03:27,455 - adata_hf_datasets.download_and_split_data - INFO - Data downloaded successfully and saved to ../data/raw/test/large_atac_peaks.h5ad.\n",
      "2025-02-10 10:03:27,457 - adata_hf_datasets.download_and_split_data - INFO - Downloading File: large_atac_windows.h5ad, Size: 2.30 GB\n",
      "2025-02-10 10:03:27,467 - adata_hf_datasets.download_and_split_data - INFO - Starting download from Figshare...\n",
      "Downloading: 100%|██████████| 2.47G/2.47G [00:35<00:00, 69.2MiB/s]\n",
      "2025-02-10 10:04:03,557 - adata_hf_datasets.download_and_split_data - INFO - Data downloaded successfully and saved to ../data/raw/test/large_atac_windows.h5ad.\n",
      "2025-02-10 10:04:03,559 - adata_hf_datasets.download_and_split_data - INFO - Downloading File: large_atac_gene_activity.h5ad, Size: 0.14 GB\n",
      "2025-02-10 10:04:03,567 - adata_hf_datasets.download_and_split_data - INFO - Starting download from Figshare...\n",
      "Downloading: 100%|██████████| 149M/149M [00:03<00:00, 41.3MiB/s] \n",
      "2025-02-10 10:04:07,542 - adata_hf_datasets.download_and_split_data - INFO - Data downloaded successfully and saved to ../data/raw/test/large_atac_gene_activity.h5ad.\n",
      "2025-02-10 10:04:07,544 - adata_hf_datasets.download_and_split_data - INFO - Downloading File: small_atac_gene_activity.h5ad, Size: 0.03 GB\n",
      "2025-02-10 10:04:07,545 - adata_hf_datasets.download_and_split_data - INFO - Starting download from Figshare...\n",
      "Downloading: 100%|██████████| 27.0M/27.0M [00:00<00:00, 40.6MiB/s]\n",
      "2025-02-10 10:04:08,610 - adata_hf_datasets.download_and_split_data - INFO - Data downloaded successfully and saved to ../data/raw/test/small_atac_gene_activity.h5ad.\n",
      "2025-02-10 10:04:08,612 - adata_hf_datasets.download_and_split_data - INFO - Downloading File: small_atac_peaks.h5ad, Size: 0.39 GB\n",
      "2025-02-10 10:04:08,613 - adata_hf_datasets.download_and_split_data - INFO - Starting download from Figshare...\n",
      "Downloading: 100%|██████████| 420M/420M [00:10<00:00, 39.1MiB/s] \n",
      "2025-02-10 10:04:19,756 - adata_hf_datasets.download_and_split_data - INFO - Data downloaded successfully and saved to ../data/raw/test/small_atac_peaks.h5ad.\n",
      "2025-02-10 10:04:19,757 - adata_hf_datasets.download_and_split_data - INFO - Downloading File: small_atac_windows.h5ad, Size: 0.51 GB\n",
      "2025-02-10 10:04:19,770 - adata_hf_datasets.download_and_split_data - INFO - Starting download from Figshare...\n",
      "Downloading: 100%|██████████| 544M/544M [00:11<00:00, 48.7MiB/s] \n",
      "2025-02-10 10:04:31,305 - adata_hf_datasets.download_and_split_data - INFO - Data downloaded successfully and saved to ../data/raw/test/small_atac_windows.h5ad.\n",
      "2025-02-10 10:04:31,307 - adata_hf_datasets.download_and_split_data - INFO - Downloading File: sim1_1_norm.h5ad, Size: 2.06 GB\n",
      "2025-02-10 10:04:31,327 - adata_hf_datasets.download_and_split_data - INFO - Starting download from Figshare...\n",
      "Downloading: 100%|██████████| 2.21G/2.21G [01:03<00:00, 34.7MiB/s]\n",
      "2025-02-10 10:05:35,392 - adata_hf_datasets.download_and_split_data - INFO - Data downloaded successfully and saved to ../data/raw/test/sim1_1_norm.h5ad.\n",
      "2025-02-10 10:05:35,395 - adata_hf_datasets.download_and_split_data - INFO - Downloading File: sim2_norm.h5ad, Size: 3.92 GB\n",
      "2025-02-10 10:05:35,407 - adata_hf_datasets.download_and_split_data - INFO - Starting download from Figshare...\n",
      "Downloading: 100%|██████████| 4.21G/4.21G [01:31<00:00, 45.9MiB/s]\n",
      "2025-02-10 10:07:07,599 - adata_hf_datasets.download_and_split_data - INFO - Data downloaded successfully and saved to ../data/raw/test/sim2_norm.h5ad.\n",
      "2025-02-10 10:07:07,602 - adata_hf_datasets.download_and_split_data - ERROR - File ../data/raw/test/human_pancreas_norm_complexBatch.h5ad not found.\n"
     ]
    }
   ],
   "source": [
    "from adata_hf_datasets.download_and_split_data import download_figshare_data\n",
    "\n",
    "download_dir = \"../data/raw/test\"\n",
    "download_figshare_data(download_dir=download_dir)"
   ]
  }
 ],
 "metadata": {
  "kernelspec": {
   "display_name": ".venv",
   "language": "python",
   "name": "python3"
  },
  "language_info": {
   "codemirror_mode": {
    "name": "ipython",
    "version": 3
   },
   "file_extension": ".py",
   "mimetype": "text/x-python",
   "name": "python",
   "nbconvert_exporter": "python",
   "pygments_lexer": "ipython3",
   "version": "3.10.10"
  }
 },
 "nbformat": 4,
 "nbformat_minor": 2
}
