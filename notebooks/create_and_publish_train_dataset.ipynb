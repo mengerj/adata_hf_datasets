{
 "cells": [
  {
   "cell_type": "markdown",
   "metadata": {},
   "source": [
    "### Creating and publishing a hugging face dataset with references to anndata files. \n",
    "\n",
    "Can for example be used to train multimodal models with mmcontext\n",
    "\n",
    "Use the initial embedder to include some initial embeddings into our anndata object which can then be used later."
   ]
  },
  {
   "cell_type": "code",
   "execution_count": 1,
   "metadata": {},
   "outputs": [],
   "source": [
    "%load_ext autoreload\n",
    "%autoreload 2"
   ]
  },
  {
   "cell_type": "code",
   "execution_count": 3,
   "metadata": {},
   "outputs": [
    {
     "data": {
      "text/plain": [
       "<RootLogger root (INFO)>"
      ]
     },
     "execution_count": 3,
     "metadata": {},
     "output_type": "execute_result"
    }
   ],
   "source": [
    "from adata_hf_datasets.utils import setup_logging\n",
    "\n",
    "setup_logging()"
   ]
  },
  {
   "cell_type": "code",
   "execution_count": 4,
   "metadata": {},
   "outputs": [],
   "source": [
    "import anndata\n",
    "\n",
    "adata = anndata.read_h5ad(\"../data/scRNA/raw/bowel_disease.h5ad\")"
   ]
  },
  {
   "cell_type": "code",
   "execution_count": 5,
   "metadata": {},
   "outputs": [],
   "source": [
    "# Delete objects that are not needed and are taking up space\n",
    "del adata.obsm[\"X_cellwhisperer_umap\"]"
   ]
  },
  {
   "cell_type": "code",
   "execution_count": 6,
   "metadata": {},
   "outputs": [
    {
     "name": "stderr",
     "output_type": "stream",
     "text": [
      "2025-02-07 09:39:36,165 - adata_hf_datasets.initial_embedder - INFO - Fitting method 'pca' with embedding_dim=64\n",
      "2025-02-07 09:39:36,166 - adata_hf_datasets.initial_embedder - INFO - Fitting PCA with 64 components.\n",
      "2025-02-07 09:39:44,168 - adata_hf_datasets.initial_embedder - INFO - Embedding data using method pca. Storing embeddings in X_pca.\n"
     ]
    }
   ],
   "source": [
    "from adata_hf_datasets.initial_embedder import InitialEmbedder\n",
    "\n",
    "method = \"pca\"\n",
    "dataset_name = f\"bowel_disease_{method}\"\n",
    "\n",
    "embedder = InitialEmbedder(method=method)\n",
    "embedder.fit(adata)\n",
    "embedder.embed(adata)"
   ]
  },
  {
   "cell_type": "code",
   "execution_count": 29,
   "metadata": {},
   "outputs": [],
   "source": [
    "from adata_hf_datasets.utils import split_anndata\n",
    "import os\n",
    "from pathlib import Path\n",
    "\n",
    "project_dir = Path().resolve().parents[0]\n",
    "train_path = f\"{project_dir}/data/scRNA/processed/{method}/train/bowel_disease.h5ad\"\n",
    "test_path = f\"{project_dir}/data/scRNA/processed/{method}/test/bowel_disease.h5ad\"\n",
    "os.makedirs(os.path.dirname(train_path), exist_ok=True)\n",
    "os.makedirs(os.path.dirname(test_path), exist_ok=True)\n",
    "train_data, test_adata = split_anndata(adata, train_size=0.9)\n",
    "train_data.write(train_path)\n",
    "test_adata.write(test_path)"
   ]
  },
  {
   "cell_type": "code",
   "execution_count": 30,
   "metadata": {},
   "outputs": [],
   "source": [
    "train_remote_path = f\"datasets/{method}/train/bowel_disease.h5ad\"\n",
    "test_remote_path = f\"datasets/{method}/test/bowel_disease.h5ad\""
   ]
  },
  {
   "cell_type": "code",
   "execution_count": 31,
   "metadata": {},
   "outputs": [],
   "source": [
    "from dotenv import load_dotenv\n",
    "\n",
    "load_dotenv(override=True)\n",
    "nextcloud_config = {\n",
    "    \"url\": \"https://nxc-fredato.imbi.uni-freiburg.de\",\n",
    "    \"username\": \"NEXTCLOUD_USER\",  # env will we obtained within code\n",
    "    \"password\": \"NEXTCLOUD_PASSWORD\",\n",
    "    \"remote_path\": train_remote_path,\n",
    "}"
   ]
  },
  {
   "cell_type": "code",
   "execution_count": 33,
   "metadata": {},
   "outputs": [
    {
     "name": "stderr",
     "output_type": "stream",
     "text": [
      "2025-02-07 10:08:22,511 - root - INFO - File saved locally at /Users/mengerj/repos/adata_hf_datasets/data/scRNA/processed/pca/train/bowel_disease.h5ad\n"
     ]
    },
    {
     "name": "stdout",
     "output_type": "stream",
     "text": [
      "Directory already exists: datasets\n",
      "Directory already exists: pca\n",
      "Directory already exists: train\n"
     ]
    },
    {
     "name": "stderr",
     "output_type": "stream",
     "text": [
      "2025-02-07 10:08:37,247 - root - INFO - File uploaded to Nextcloud at datasets/pca/train/bowel_disease.h5ad with status code 204\n",
      "2025-02-07 10:08:50,904 - adata_hf_datasets.adata_ref_ds - INFO - Successfully added anndata file: /Users/mengerj/repos/adata_hf_datasets/data/scRNA/processed/pca/train/bowel_disease.h5ad\n"
     ]
    },
    {
     "name": "stdout",
     "output_type": "stream",
     "text": [
      "File is a valid .h5ad file.\n"
     ]
    },
    {
     "name": "stderr",
     "output_type": "stream",
     "text": [
      "... storing 'caption' as categorical\n",
      "2025-02-07 10:09:10,551 - root - INFO - File saved locally at /Users/mengerj/repos/adata_hf_datasets/data/scRNA/processed/pca/train/bowel_disease.h5ad\n"
     ]
    },
    {
     "name": "stdout",
     "output_type": "stream",
     "text": [
      "Directory already exists: datasets\n",
      "Directory already exists: pca\n",
      "Directory already exists: train\n"
     ]
    },
    {
     "name": "stderr",
     "output_type": "stream",
     "text": [
      "2025-02-07 10:09:20,361 - root - INFO - File uploaded to Nextcloud at datasets/pca/train/bowel_disease.h5ad with status code 423\n",
      "2025-02-07 10:09:33,937 - adata_hf_datasets.adata_ref_ds - INFO - Successfully added anndata file: /Users/mengerj/repos/adata_hf_datasets/data/scRNA/processed/pca/train/bowel_disease.h5ad\n"
     ]
    },
    {
     "name": "stdout",
     "output_type": "stream",
     "text": [
      "File is a valid .h5ad file.\n"
     ]
    },
    {
     "name": "stderr",
     "output_type": "stream",
     "text": [
      "... storing 'caption' as categorical\n"
     ]
    }
   ],
   "source": [
    "from adata_hf_datasets.adata_ref_ds import AnnDataSetConstructor\n",
    "from adata_hf_datasets.adata_ref_ds import SimpleCaptionConstructor\n",
    "from datasets import DatasetDict\n",
    "\n",
    "hf_dataset = DatasetDict()\n",
    "# Create caption constructor with desired obs keys\n",
    "for split, path in zip([\"train\", \"test\"], [train_remote_path, test_remote_path]):\n",
    "    caption_constructor = SimpleCaptionConstructor(obs_keys=[\"cluster_label\"])\n",
    "    constructor = AnnDataSetConstructor(\n",
    "        caption_constructor=caption_constructor,\n",
    "        store_nextcloud=True,\n",
    "        nextcloud_config=nextcloud_config,\n",
    "    )\n",
    "    constructor.add_anndata(file_path=train_path)\n",
    "    # Get dataset\n",
    "    dataset = constructor.get_dataset()\n",
    "    hf_dataset[split] = dataset"
   ]
  },
  {
   "cell_type": "code",
   "execution_count": 36,
   "metadata": {},
   "outputs": [
    {
     "ename": "TypeError",
     "evalue": "annotate_and_push_dataset() missing 1 required positional argument: 'self'",
     "output_type": "error",
     "traceback": [
      "\u001b[0;31m---------------------------------------------------------------------------\u001b[0m",
      "\u001b[0;31mTypeError\u001b[0m                                 Traceback (most recent call last)",
      "Cell \u001b[0;32mIn[36], line 9\u001b[0m\n\u001b[1;32m      3\u001b[0m caption_generation \u001b[38;5;241m=\u001b[39m \u001b[38;5;124mf\u001b[39m\u001b[38;5;124m\"\"\"\u001b[39m\u001b[38;5;124mCaptions were generated with the SimpleCaptionConstructor class. That means the previosly added annotation from the\u001b[39m\n\u001b[1;32m      4\u001b[0m \u001b[38;5;124m                following obs_keys were concatenated: \u001b[39m\u001b[38;5;132;01m{\u001b[39;00mcaption_constructor\u001b[38;5;241m.\u001b[39mobs_keys\u001b[38;5;132;01m}\u001b[39;00m\u001b[38;5;124m.\u001b[39m\u001b[38;5;124m\"\"\"\u001b[39m\n\u001b[1;32m      6\u001b[0m embedding_generation\u001b[38;5;241m=\u001b[39m\u001b[38;5;124mf\u001b[39m\u001b[38;5;124m\"\"\"\u001b[39m\u001b[38;5;124mEmbeddings were generated with the InitialEmbedder class from the adata_hf_datasets package, with method = \u001b[39m\u001b[38;5;132;01m{\u001b[39;00mmethod\u001b[38;5;132;01m}\u001b[39;00m\u001b[38;5;124m, they have \u001b[39m\n\u001b[1;32m      7\u001b[0m \u001b[38;5;124m        \u001b[39m\u001b[38;5;132;01m{\u001b[39;00membedder\u001b[38;5;241m.\u001b[39membedding_dim\u001b[38;5;132;01m}\u001b[39;00m\u001b[38;5;124m dimensions, and are stored in adata.obsm[\u001b[39m\u001b[38;5;124m'\u001b[39m\u001b[38;5;124mX_\u001b[39m\u001b[38;5;132;01m{\u001b[39;00mmethod\u001b[38;5;132;01m}\u001b[39;00m\u001b[38;5;124m'\u001b[39m\u001b[38;5;124m]\u001b[39m\u001b[38;5;124m\"\"\"\u001b[39m\n\u001b[0;32m----> 9\u001b[0m \u001b[43mannotate_and_push_dataset\u001b[49m\u001b[43m(\u001b[49m\n\u001b[1;32m     10\u001b[0m \u001b[43m    \u001b[49m\u001b[43mdataset\u001b[49m\u001b[43m \u001b[49m\u001b[38;5;241;43m=\u001b[39;49m\u001b[43m \u001b[49m\u001b[43mdataset\u001b[49m\u001b[43m,\u001b[49m\n\u001b[1;32m     11\u001b[0m \u001b[43m    \u001b[49m\u001b[43mcaption_generation\u001b[49m\u001b[38;5;241;43m=\u001b[39;49m\u001b[43mcaption_generation\u001b[49m\u001b[43m,\u001b[49m\n\u001b[1;32m     12\u001b[0m \u001b[43m    \u001b[49m\u001b[43membedding_generation\u001b[49m\u001b[38;5;241;43m=\u001b[39;49m\u001b[43membedding_generation\u001b[49m\u001b[43m,\u001b[49m\n\u001b[1;32m     13\u001b[0m \u001b[43m    \u001b[49m\u001b[43mrepo_id\u001b[49m\u001b[43m \u001b[49m\u001b[38;5;241;43m=\u001b[39;49m\u001b[43m \u001b[49m\u001b[38;5;124;43mf\u001b[39;49m\u001b[38;5;124;43m\"\u001b[39;49m\u001b[38;5;124;43mjo-mengr/\u001b[39;49m\u001b[38;5;132;43;01m{\u001b[39;49;00m\u001b[43mdataset_name\u001b[49m\u001b[38;5;132;43;01m}\u001b[39;49;00m\u001b[38;5;124;43m\"\u001b[39;49m\u001b[43m,\u001b[49m\n\u001b[1;32m     14\u001b[0m \u001b[43m    \u001b[49m\u001b[43mreadme_template_name\u001b[49m\u001b[43m \u001b[49m\u001b[38;5;241;43m=\u001b[39;49m\u001b[43m \u001b[49m\u001b[38;5;124;43m\"\u001b[39;49m\u001b[38;5;124;43mcellwhisperer\u001b[39;49m\u001b[38;5;124;43m\"\u001b[39;49m\n\u001b[1;32m     15\u001b[0m \u001b[43m)\u001b[49m\n",
      "\u001b[0;31mTypeError\u001b[0m: annotate_and_push_dataset() missing 1 required positional argument: 'self'"
     ]
    }
   ],
   "source": [
    "from adata_hf_datasets.utils import annotate_and_push_dataset\n",
    "\n",
    "caption_generation = f\"\"\"Captions were generated with the SimpleCaptionConstructor class. That means the previosly added annotation from the\n",
    "                following obs_keys were concatenated: {caption_constructor.obs_keys}.\"\"\"\n",
    "\n",
    "embedding_generation = f\"\"\"Embeddings were generated with the InitialEmbedder class from the adata_hf_datasets package, with method = {method}, they have \n",
    "        {embedder.embedding_dim} dimensions, and are stored in adata.obsm['X_{method}']\"\"\"\n",
    "\n",
    "annotate_and_push_dataset(\n",
    "    dataset=dataset,\n",
    "    caption_generation=caption_generation,\n",
    "    embedding_generation=embedding_generation,\n",
    "    repo_id=f\"jo-mengr/{dataset_name}\",\n",
    "    readme_template_name=\"cellwhisperer\",\n",
    ")"
   ]
  }
 ],
 "metadata": {
  "kernelspec": {
   "display_name": ".venv",
   "language": "python",
   "name": "python3"
  },
  "language_info": {
   "codemirror_mode": {
    "name": "ipython",
    "version": 3
   },
   "file_extension": ".py",
   "mimetype": "text/x-python",
   "name": "python",
   "nbconvert_exporter": "python",
   "pygments_lexer": "ipython3",
   "version": "3.12.8"
  }
 },
 "nbformat": 4,
 "nbformat_minor": 2
}
