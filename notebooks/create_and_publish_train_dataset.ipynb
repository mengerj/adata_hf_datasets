{
 "cells": [
  {
   "cell_type": "markdown",
   "metadata": {},
   "source": [
    "### Creating and publishing a hugging face dataset with references to anndata files. \n",
    "\n",
    "Can for example be used to train multimodal models with mmcontext. The datasets consist of a reference to a sample of an anndata file,\n",
    "which can be stored locally or remotly on nextcloud. \n",
    "\n",
    "Use the initial embedder to include some initial embeddings into our anndata object which can then be used later."
   ]
  },
  {
   "cell_type": "code",
   "execution_count": 90,
   "metadata": {},
   "outputs": [
    {
     "name": "stdout",
     "output_type": "stream",
     "text": [
      "The autoreload extension is already loaded. To reload it, use:\n",
      "  %reload_ext autoreload\n"
     ]
    }
   ],
   "source": [
    "%load_ext autoreload\n",
    "%autoreload 2"
   ]
  },
  {
   "cell_type": "code",
   "execution_count": 91,
   "metadata": {},
   "outputs": [
    {
     "data": {
      "text/plain": [
       "<RootLogger root (INFO)>"
      ]
     },
     "execution_count": 91,
     "metadata": {},
     "output_type": "execute_result"
    }
   ],
   "source": [
    "from adata_hf_datasets.utils import setup_logging\n",
    "\n",
    "setup_logging()"
   ]
  },
  {
   "cell_type": "code",
   "execution_count": 92,
   "metadata": {},
   "outputs": [],
   "source": [
    "import anndata\n",
    "\n",
    "adata = anndata.read_h5ad(\"../data/demo/demo.h5ad\")\n",
    "adata_val = anndata.read_h5ad(\"../data/demo/demo_val.h5ad\")"
   ]
  },
  {
   "cell_type": "code",
   "execution_count": 93,
   "metadata": {},
   "outputs": [],
   "source": [
    "adata.obs[\"natural_language_annotation\"]\n",
    "caption_key = \"natural_language_annotation\"\n",
    "batch_key = \"dataset_title\"  # to draw negative samples from the same batch"
   ]
  },
  {
   "cell_type": "code",
   "execution_count": 94,
   "metadata": {},
   "outputs": [
    {
     "name": "stderr",
     "output_type": "stream",
     "text": [
      "2025-10-16 08:18:24,688 - adata_hf_datasets.embed.initial_embedder - WARNING - GeneSelectEmbedder embedding_dim is determined by the gene list. Ignoring provided value: 64\n",
      "2025-10-16 08:18:24,689 - adata_hf_datasets.embed.initial_embedder - INFO - Initialized GeneSelectEmbedder with gene_list_path: ../resources/gene_selection_10k.txt\n",
      "2025-10-16 08:18:24,689 - adata_hf_datasets.embed.initial_embedder - INFO - Initialized InitialEmbedder(method=gs10k, embedding_dim=64, requires_mem_adata=True)\n",
      "2025-10-16 08:18:24,692 - adata_hf_datasets.embed.initial_embedder - INFO - Preparing embedder 'gs10k'\n",
      "2025-10-16 08:18:24,692 - adata_hf_datasets.embed.initial_embedder - INFO - Loading gene list from resources...\n",
      "2025-10-16 08:18:24,694 - adata_hf_datasets.embed.initial_embedder - INFO - Loaded 10000 genes from ../resources/gene_selection_10k.txt\n",
      "2025-10-16 08:18:24,694 - adata_hf_datasets.embed.initial_embedder - INFO - GeneSelect embedder prepared. Gene set contains 10000 genes.\n",
      "2025-10-16 08:18:24,694 - adata_hf_datasets.embed.initial_embedder - INFO - Embedding method: gs10k\n",
      "2025-10-16 08:18:24,695 - adata_hf_datasets.embed.initial_embedder - INFO - Applying gene selection using scVI foundation model gene set...\n",
      "2025-10-16 08:18:24,729 - adata_hf_datasets.pp.pybiomart_utils - INFO - Found 17530 Ensembl IDs in index, 17530 in column 'ensembl_id'\n",
      "2025-10-16 08:18:24,730 - adata_hf_datasets.pp.pybiomart_utils - INFO - Using index as source (has more/equal Ensembl IDs).\n",
      "2025-10-16 08:18:24,735 - adata_hf_datasets.pp.pybiomart_utils - INFO - Final var.index has 17530 unique Ensembl IDs.\n",
      "2025-10-16 08:19:08,240 - adata_hf_datasets.embed.initial_embedder - WARNING - Dataset missing 1486 genes, filled with zeros\n",
      "2025-10-16 08:19:08,241 - adata_hf_datasets.embed.initial_embedder - INFO - Dataset subsetted to 10000 genes (exact order from gene list)\n",
      "2025-10-16 08:19:08,307 - adata_hf_datasets.embed.initial_embedder - INFO - Gene selection complete. Selected 10000 genes from 17530 original genes. Stored in adata.obsm[X_gs10k].\n",
      "2025-10-16 08:19:08,321 - adata_hf_datasets.embed.initial_embedder - INFO - Embedding complete. Returning the embedding matrix\n",
      "2025-10-16 08:19:08,323 - adata_hf_datasets.embed.initial_embedder - INFO - Using model cache directory: /Users/mengerj/Library/Caches/adata_hf_datasets/models/scvi_cellxgene\n",
      "2025-10-16 08:19:08,323 - adata_hf_datasets.embed.initial_embedder - INFO - Using reference data cache directory: /Users/mengerj/Library/Caches/adata_hf_datasets/reference_data/scvi\n",
      "2025-10-16 08:19:08,323 - adata_hf_datasets.embed.initial_embedder - INFO - Initialized InitialEmbedder(method=scvi_fm, embedding_dim=64, requires_mem_adata=True)\n",
      "2025-10-16 08:19:08,324 - adata_hf_datasets.embed.initial_embedder - INFO - Preparing embedder 'scvi_fm'\n",
      "2025-10-16 08:19:08,324 - adata_hf_datasets.embed.initial_embedder - INFO - Preparing SCVI model, loading from S3 or HF if needed.\n",
      "2025-10-16 08:19:08,325 - adata_hf_datasets.embed.initial_embedder - INFO - Loading SCVI model from S3 bucket cellxgene-contrib-public, path models/scvi/2024-02-12/homo_sapiens/modelhub\n",
      "2025-10-16 08:19:39,065 - adata_hf_datasets.embed.initial_embedder - INFO - Reading reference adata from URL https://cellxgene-contrib-public.s3.amazonaws.com/models/scvi/2024-02-12/homo_sapiens/adata-spinal-cord-minified.h5ad\n",
      "2025-10-16 08:19:39,324 - root - INFO - Reference AnnData is expected to be minified with empty cells.\n",
      "2025-10-16 08:19:39,325 - adata_hf_datasets.embed.initial_embedder - INFO - Copying SCVI weight file to a worker-unique temp dir to avoid NFS races.\n",
      "2025-10-16 08:19:39,517 - adata_hf_datasets.embed.initial_embedder - INFO - Preparing SCVI model with reference data...\n"
     ]
    },
    {
     "name": "stdout",
     "output_type": "stream",
     "text": [
      "\u001b[34mINFO    \u001b[0m Loading model\u001b[33m...\u001b[0m                                                                                          \n",
      "\u001b[34mINFO    \u001b[0m File \u001b[35m/var/folders/x3/bj_4mgb56c19542qzptvc36c0000gn/T/scvi_3469d4b5d291451597aa541e8f822684/\u001b[0m\u001b[95mmodel.pt\u001b[0m      \n",
      "         already downloaded                                                                                        \n"
     ]
    },
    {
     "name": "stderr",
     "output_type": "stream",
     "text": [
      "/Users/mengerj/repos/adata_hf_datasets/.venv/lib/python3.12/site-packages/scvi/model/base/_base_model.py:812: UserWarning: `accelerator` has been automatically set to `cpu` although 'mps' exists. If you wish to run on mps backend, use explicitly accelerator='mps' in train function.In future releases it will become default for mps supported machines.\n",
      "  _, _, device = parse_device_args(\n",
      "2025-10-16 08:19:40,194 - adata_hf_datasets.embed.initial_embedder - INFO - Embedding method: scvi_fm\n",
      "2025-10-16 08:19:40,195 - adata_hf_datasets.embed.initial_embedder - INFO - Preparing query AnnData and loading into SCVI model.\n",
      "2025-10-16 08:19:40,200 - adata_hf_datasets.pp.pybiomart_utils - INFO - Found 17530 Ensembl IDs in index, 17530 in column 'ensembl_id'\n",
      "2025-10-16 08:19:40,200 - adata_hf_datasets.pp.pybiomart_utils - INFO - Using index as source (has more/equal Ensembl IDs).\n",
      "2025-10-16 08:19:40,204 - adata_hf_datasets.pp.pybiomart_utils - INFO - Final var.index has 17530 unique Ensembl IDs.\n"
     ]
    },
    {
     "name": "stdout",
     "output_type": "stream",
     "text": [
      "\u001b[34mINFO    \u001b[0m Found \u001b[1;36m41.225\u001b[0m% reference vars in query data.                                                               \n"
     ]
    },
    {
     "name": "stderr",
     "output_type": "stream",
     "text": [
      "/Users/mengerj/repos/adata_hf_datasets/.venv/lib/python3.12/site-packages/scvi/model/base/_archesmixin.py:321: UserWarning: Query data contains less than 80% of reference var names. This may result in poor performance.\n",
      "  return _pad_and_sort_query_anndata(adata, var_names, inplace)\n",
      "/Users/mengerj/repos/adata_hf_datasets/.venv/lib/python3.12/site-packages/scvi/model/base/_archesmixin.py:108: UserWarning: `accelerator` has been automatically set to `cpu` although 'mps' exists. If you wish to run on mps backend, use explicitly accelerator='mps' in train function.In future releases it will become default for mps supported machines.\n",
      "  _, _, device = parse_device_args(\n",
      "/Users/mengerj/repos/adata_hf_datasets/.venv/lib/python3.12/site-packages/scvi/data/fields/_dataframe_field.py:227: UserWarning: Category 6008 in adata.obs['_scvi_batch'] has fewer than 3 cells. Models may not train properly.\n",
      "  new_mapping = _make_column_categorical(\n",
      "2025-10-16 08:19:40,822 - adata_hf_datasets.embed.initial_embedder - INFO - Successfully prepared query data for SCVI\n",
      "2025-10-16 08:19:40,822 - adata_hf_datasets.embed.initial_embedder - INFO - Computing SCVI latent representation, storing in `X_scvi_fm`...\n",
      "2025-10-16 08:19:41,104 - adata_hf_datasets.embed.initial_embedder - INFO - Embedding complete. Returning the embedding matrix\n"
     ]
    }
   ],
   "source": [
    "from adata_hf_datasets.embed import InitialEmbedder\n",
    "\n",
    "methods = [\"gs10k\", \"scvi_fm\"]\n",
    "# you can also input the adata_path to the InitialEmbedder, which is more memory efficient, at least for some methods\n",
    "for method in methods:\n",
    "    embedder = InitialEmbedder(method=method, resources_dir=\"../resources\")\n",
    "    embedder.prepare(adata)\n",
    "    adata.obsm[f\"X_{method}\"] = embedder.embed(adata)"
   ]
  },
  {
   "cell_type": "code",
   "execution_count": 95,
   "metadata": {},
   "outputs": [
    {
     "name": "stderr",
     "output_type": "stream",
     "text": [
      "2025-10-16 08:19:41,411 - adata_hf_datasets.embed.initial_embedder - WARNING - GeneSelectEmbedder embedding_dim is determined by the gene list. Ignoring provided value: 64\n",
      "2025-10-16 08:19:41,412 - adata_hf_datasets.embed.initial_embedder - INFO - Initialized GeneSelectEmbedder with gene_list_path: ../resources/gene_selection_10k.txt\n",
      "2025-10-16 08:19:41,412 - adata_hf_datasets.embed.initial_embedder - INFO - Initialized InitialEmbedder(method=gs10k, embedding_dim=64, requires_mem_adata=True)\n",
      "2025-10-16 08:19:41,413 - adata_hf_datasets.embed.initial_embedder - INFO - Preparing embedder 'gs10k'\n",
      "2025-10-16 08:19:41,414 - adata_hf_datasets.embed.initial_embedder - INFO - Loading gene list from resources...\n",
      "2025-10-16 08:19:41,415 - adata_hf_datasets.embed.initial_embedder - INFO - Loaded 10000 genes from ../resources/gene_selection_10k.txt\n",
      "2025-10-16 08:19:41,416 - adata_hf_datasets.embed.initial_embedder - INFO - GeneSelect embedder prepared. Gene set contains 10000 genes.\n",
      "2025-10-16 08:19:41,416 - adata_hf_datasets.embed.initial_embedder - INFO - Embedding method: gs10k\n",
      "2025-10-16 08:19:41,416 - adata_hf_datasets.embed.initial_embedder - INFO - Applying gene selection using scVI foundation model gene set...\n",
      "2025-10-16 08:19:41,423 - adata_hf_datasets.pp.pybiomart_utils - INFO - Found 12022 Ensembl IDs in index, 12022 in column 'ensembl_id'\n",
      "2025-10-16 08:19:41,424 - adata_hf_datasets.pp.pybiomart_utils - INFO - Using index as source (has more/equal Ensembl IDs).\n",
      "2025-10-16 08:19:41,427 - adata_hf_datasets.pp.pybiomart_utils - INFO - Final var.index has 12022 unique Ensembl IDs.\n",
      "2025-10-16 08:19:46,011 - adata_hf_datasets.embed.initial_embedder - WARNING - Dataset missing 4254 genes, filled with zeros\n",
      "2025-10-16 08:19:46,011 - adata_hf_datasets.embed.initial_embedder - INFO - Dataset subsetted to 10000 genes (exact order from gene list)\n",
      "2025-10-16 08:19:46,014 - adata_hf_datasets.embed.initial_embedder - INFO - Gene selection complete. Selected 10000 genes from 12022 original genes. Stored in adata.obsm[X_gs10k].\n",
      "2025-10-16 08:19:46,016 - adata_hf_datasets.embed.initial_embedder - INFO - Embedding complete. Returning the embedding matrix\n",
      "2025-10-16 08:19:46,016 - adata_hf_datasets.embed.initial_embedder - INFO - Using model cache directory: /Users/mengerj/Library/Caches/adata_hf_datasets/models/scvi_cellxgene\n",
      "2025-10-16 08:19:46,017 - adata_hf_datasets.embed.initial_embedder - INFO - Using reference data cache directory: /Users/mengerj/Library/Caches/adata_hf_datasets/reference_data/scvi\n",
      "2025-10-16 08:19:46,017 - adata_hf_datasets.embed.initial_embedder - INFO - Initialized InitialEmbedder(method=scvi_fm, embedding_dim=64, requires_mem_adata=True)\n",
      "2025-10-16 08:19:46,017 - adata_hf_datasets.embed.initial_embedder - INFO - Preparing embedder 'scvi_fm'\n",
      "2025-10-16 08:19:46,017 - adata_hf_datasets.embed.initial_embedder - INFO - Preparing SCVI model, loading from S3 or HF if needed.\n",
      "2025-10-16 08:19:46,018 - adata_hf_datasets.embed.initial_embedder - INFO - Loading SCVI model from S3 bucket cellxgene-contrib-public, path models/scvi/2024-02-12/homo_sapiens/modelhub\n",
      "2025-10-16 08:20:12,983 - adata_hf_datasets.embed.initial_embedder - INFO - Reading reference adata from URL https://cellxgene-contrib-public.s3.amazonaws.com/models/scvi/2024-02-12/homo_sapiens/adata-spinal-cord-minified.h5ad\n",
      "2025-10-16 08:20:13,231 - root - INFO - Reference AnnData is expected to be minified with empty cells.\n",
      "2025-10-16 08:20:13,232 - adata_hf_datasets.embed.initial_embedder - INFO - Copying SCVI weight file to a worker-unique temp dir to avoid NFS races.\n",
      "2025-10-16 08:20:13,410 - adata_hf_datasets.embed.initial_embedder - INFO - Preparing SCVI model with reference data...\n"
     ]
    },
    {
     "name": "stdout",
     "output_type": "stream",
     "text": [
      "\u001b[34mINFO    \u001b[0m Loading model\u001b[33m...\u001b[0m                                                                                          \n",
      "\u001b[34mINFO    \u001b[0m File \u001b[35m/var/folders/x3/bj_4mgb56c19542qzptvc36c0000gn/T/scvi_fdddce55e78f4ced83dfd78581924656/\u001b[0m\u001b[95mmodel.pt\u001b[0m      \n",
      "         already downloaded                                                                                        \n"
     ]
    },
    {
     "name": "stderr",
     "output_type": "stream",
     "text": [
      "/Users/mengerj/repos/adata_hf_datasets/.venv/lib/python3.12/site-packages/scvi/model/base/_base_model.py:812: UserWarning: `accelerator` has been automatically set to `cpu` although 'mps' exists. If you wish to run on mps backend, use explicitly accelerator='mps' in train function.In future releases it will become default for mps supported machines.\n",
      "  _, _, device = parse_device_args(\n",
      "2025-10-16 08:20:13,987 - adata_hf_datasets.embed.initial_embedder - INFO - Embedding method: scvi_fm\n",
      "2025-10-16 08:20:13,987 - adata_hf_datasets.embed.initial_embedder - INFO - Preparing query AnnData and loading into SCVI model.\n",
      "2025-10-16 08:20:13,991 - adata_hf_datasets.pp.pybiomart_utils - INFO - Found 12022 Ensembl IDs in index, 12022 in column 'ensembl_id'\n",
      "2025-10-16 08:20:13,991 - adata_hf_datasets.pp.pybiomart_utils - INFO - Using index as source (has more/equal Ensembl IDs).\n",
      "2025-10-16 08:20:13,995 - adata_hf_datasets.pp.pybiomart_utils - INFO - Final var.index has 12022 unique Ensembl IDs.\n"
     ]
    },
    {
     "name": "stdout",
     "output_type": "stream",
     "text": [
      "\u001b[34mINFO    \u001b[0m Found \u001b[1;36m26.2875\u001b[0m% reference vars in query data.                                                              \n"
     ]
    },
    {
     "name": "stderr",
     "output_type": "stream",
     "text": [
      "/Users/mengerj/repos/adata_hf_datasets/.venv/lib/python3.12/site-packages/scvi/model/base/_archesmixin.py:321: UserWarning: Query data contains less than 80% of reference var names. This may result in poor performance.\n",
      "  return _pad_and_sort_query_anndata(adata, var_names, inplace)\n",
      "/Users/mengerj/repos/adata_hf_datasets/.venv/lib/python3.12/site-packages/scvi/model/base/_archesmixin.py:108: UserWarning: `accelerator` has been automatically set to `cpu` although 'mps' exists. If you wish to run on mps backend, use explicitly accelerator='mps' in train function.In future releases it will become default for mps supported machines.\n",
      "  _, _, device = parse_device_args(\n",
      "/Users/mengerj/repos/adata_hf_datasets/.venv/lib/python3.12/site-packages/scvi/data/fields/_dataframe_field.py:227: UserWarning: Category 6006 in adata.obs['_scvi_batch'] has fewer than 3 cells. Models may not train properly.\n",
      "  new_mapping = _make_column_categorical(\n",
      "2025-10-16 08:20:14,184 - adata_hf_datasets.embed.initial_embedder - INFO - Successfully prepared query data for SCVI\n",
      "2025-10-16 08:20:14,184 - adata_hf_datasets.embed.initial_embedder - INFO - Computing SCVI latent representation, storing in `X_scvi_fm`...\n",
      "2025-10-16 08:20:14,218 - adata_hf_datasets.embed.initial_embedder - INFO - Embedding complete. Returning the embedding matrix\n"
     ]
    }
   ],
   "source": [
    "for method in methods:\n",
    "    embedder = InitialEmbedder(method=method, resources_dir=\"../resources\")\n",
    "    embedder.prepare(adata_val)\n",
    "    adata_val.obsm[f\"X_{method}\"] = embedder.embed(adata_val)"
   ]
  },
  {
   "cell_type": "code",
   "execution_count": 96,
   "metadata": {},
   "outputs": [],
   "source": [
    "# The sample id is later used as a token for that sample. It could be seen as a cell sentence with one word.\n",
    "adata.obs[\"sample_id_og\"] = adata.obs.index\n",
    "adata_val.obs[\"sample_id_og\"] = adata_val.obs.index"
   ]
  },
  {
   "cell_type": "code",
   "execution_count": 97,
   "metadata": {},
   "outputs": [
    {
     "name": "stderr",
     "output_type": "stream",
     "text": [
      "... storing 'ensembl_id' as categorical\n",
      "... storing 'ensembl_id' as categorical\n"
     ]
    }
   ],
   "source": [
    "paths = {}\n",
    "adata.write_h5ad(\"../data/demo/demo_embed.h5ad\")\n",
    "paths[\"train\"] = \"../data/demo/demo_embed.h5ad\"\n",
    "adata_val.write_h5ad(\"../data/demo/demo_val_embed.h5ad\")\n",
    "paths[\"val\"] = \"../data/demo/demo_val_embed.h5ad\""
   ]
  },
  {
   "cell_type": "code",
   "execution_count": 98,
   "metadata": {},
   "outputs": [
    {
     "name": "stderr",
     "output_type": "stream",
     "text": [
      "2025-10-16 08:20:15,312 - adata_hf_datasets.dataset.ds_constructor - INFO - AnnData ingested (8113 rows).\n",
      "2025-10-16 08:20:15,314 - adata_hf_datasets.dataset.ds_constructor - INFO - Building dataset from generator...\n",
      "2025-10-16 08:20:15,468 - adata_hf_datasets.dataset.ds_constructor - INFO - Constructed dataset with 8113 records in 'multiplets' format.\n",
      "2025-10-16 08:20:15,474 - adata_hf_datasets.dataset.ds_constructor - INFO - AnnData ingested (900 rows).\n",
      "2025-10-16 08:20:15,474 - adata_hf_datasets.dataset.ds_constructor - INFO - Building dataset from generator...\n",
      "2025-10-16 08:20:15,494 - adata_hf_datasets.dataset.ds_constructor - INFO - Constructed dataset with 900 records in 'multiplets' format.\n"
     ]
    }
   ],
   "source": [
    "from adata_hf_datasets.dataset import AnnDataSetConstructor\n",
    "from datasets import DatasetDict\n",
    "\n",
    "hf_dataset = DatasetDict()\n",
    "# Create caption constructor with desired obs keys\n",
    "for split, adata_split in zip([\"train\", \"val\"], [adata, adata_val]):\n",
    "    constructor = AnnDataSetConstructor(\n",
    "        dataset_format=\"multiplets\", negatives_per_sample=2\n",
    "    )\n",
    "    constructor.add_anndata(\n",
    "        adata_split,\n",
    "        sentence_keys=[\n",
    "            \"sample_id_og\"\n",
    "        ],  # These sentences can later be tokenized to represent the sample\n",
    "        caption_key=caption_key,\n",
    "        batch_key=batch_key,\n",
    "        adata_link=paths[split],\n",
    "    )  # Can be a local path or a share link\n",
    "    # Get dataset\n",
    "    dataset = constructor.get_dataset()\n",
    "    hf_dataset[split] = dataset"
   ]
  },
  {
   "cell_type": "code",
   "execution_count": null,
   "metadata": {},
   "outputs": [],
   "source": [
    "from adata_hf_datasets.utils import annotate_and_push_dataset\n",
    "\n",
    "embedding_generation = f\"\"\"Embeddings were generated with the InitialEmbedder class from the adata_hf_datasets package, with method = {method}, they have \n",
    "        {embedder.embedding_dim} dimensions, and are stored in adata.obsm['X_{method}']\"\"\"\n",
    "\n",
    "dataset_type_explanation = (\n",
    "    \"This dataset contains multiplets of a cell sentence and a caption.\"\n",
    ")\n",
    "final_repo_id = \"jo-mengr/demo_dataset\"\n",
    "metadata = {\n",
    "    \"example_share_link\": paths[\"train\"],\n",
    "}\n",
    "annotate_and_push_dataset(\n",
    "    dataset=hf_dataset,\n",
    "    embedding_generation=embedding_generation,\n",
    "    dataset_type_explanation=dataset_type_explanation,\n",
    "    repo_id=final_repo_id,\n",
    "    readme_template_name=\"cellwhisperer_train\",\n",
    "    metadata=metadata,\n",
    "    private=True,\n",
    ")"
   ]
  }
 ],
 "metadata": {
  "kernelspec": {
   "display_name": ".venv",
   "language": "python",
   "name": "python3"
  },
  "language_info": {
   "codemirror_mode": {
    "name": "ipython",
    "version": 3
   },
   "file_extension": ".py",
   "mimetype": "text/x-python",
   "name": "python",
   "nbconvert_exporter": "python",
   "pygments_lexer": "ipython3",
   "version": "3.12.8"
  }
 },
 "nbformat": 4,
 "nbformat_minor": 2
}
