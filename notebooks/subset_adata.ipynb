{
 "cells": [
  {
   "cell_type": "code",
   "execution_count": 19,
   "metadata": {},
   "outputs": [],
   "source": [
    "import anndata\n",
    "\n",
    "data_dir = \"../data/RNA/raw/train/\"\n",
    "data_name = \"geo_7k.h5ad\"\n",
    "adata = anndata.read_h5ad(data_dir + data_name)"
   ]
  },
  {
   "cell_type": "code",
   "execution_count": 2,
   "metadata": {},
   "outputs": [
    {
     "data": {
      "text/plain": [
       "AnnData object with n_obs × n_vars = 376983 × 38030\n",
       "    obs: 'age', 'assay', 'assay_ontology_term_id', 'cell_type', 'cell_type_ontology_term_id', 'cluster_name', 'development_stage', 'development_stage_ontology_term_id', 'disease', 'disease_ontology_term_id', 'is_primary_data', 'lobe', 'organism', 'organism_ontology_term_id', 'orig.ident', 'self_reported_ethnicity', 'self_reported_ethnicity_ontology_term_id', 'sex', 'sex_ontology_term_id', 'suspension_type', 'tissue', 'tissue_ontology_term_id', 'based_on_n_cells', 'abstract', 'dataset_title', 'Sort_id', 'celltype_annotation', 'is_maternal_contaminant', 'original_pub', 'predicted_doublets', 'sample', 'sample_long', 'scvi_clusters', 'Age', 'Amyloid', 'Braak', 'Cell.Types', 'PMI', 'RIN', 'SORT', 'Sample.ID', 'dissection', 'roi', 'sample_id', 'supercluster_term', 'batch', 'cell_cycle', 'cell_description', 'BMI', 'cds', 'donor_region', 'group', 'hash_cluster', 'hash_label', 'hashed', 'lineage', 'pct_counts_hb', 'phase', 'treatment', 'type', 'subcluster_id', 'brain_region', 'cluster_label', 'cortical_area', 'lamina', 'author_cell_type', 'author_cluster_label', 'hca_data_portal_cellsuspension_uuid', 'hca_data_portal_donor_uuid', 'age_group', 'alignment_software', 'bmi_group', 'breast_density', 'broad_cell_type', 'cell_state', 'donor_BMI_at_collection', 'donor_living_at_sample_collection', 'donor_menopausal_status', 'library_uuid', 'mapped_reference_annotation', 'mapped_reference_assembly', 'procedure_group', 'sample_derivation_process', 'sample_preservation_method', 'sample_source', 'sample_uuid', 'sequencing_platform', 'suspension_depleted_cell_types', 'suspension_derivation_process', 'suspension_dissociation_reagent', 'suspension_dissociation_time', 'suspension_percent_cell_viability', 'suspension_uuid', 'tissue_location', 'library_starting_quantity', 'Celltype', 'Cluster', 'celltype', 'seurat_clusters', 'Layer', 'Type', 'age group', 'biosample_id', 'donor_BMI', 'donor_times_pregnant', 'family_history_breast_cancer', 'tyrer_cuzick_lifetime_risk', 'ParticipantID', 'Phase', 'cellSubtype', 'genotype_1', 'gravidityParity', 'menopause', 'numberOfBirths', 'numberOfPregnancies', 'surgeryType', 'CellType', 'Experiment', 'Selection', 'Short_Sample', 'compartment', 'suspension_depletion_factors', 'suspension_enriched_cell_types', 'suspension_enrichment_factors', 'chemistry', 'new_celltype', 'diet', 'digest', 'reported_diseases', 'typeSample', 'author_Cause_of_Death', 'author_Donor_PMI', 'author_FACS_Classification', 'Time', 'donor_time', 'organ', 'ALK_mutation', 'BRAF_mutation', 'EGFR_mutation', 'ERBB2_mutation', 'KRAS_mutation', 'ROS_mutation', 'TP53_mutation', 'ann_coarse', 'ann_fine', 'cell_type_major', 'cell_type_neutro', 'cell_type_neutro_coarse', 'cell_type_predicted', 'cell_type_tumor', 'dataset', 'doublet_status', 'ever_smoker', 'origin', 'origin_fine', 'platform', 'study', 'tumor_stage', 'uicc_stage', 'cell_type_fine', 'cell_type_intermediate', 'cell_type_main', 'initial_clustering', 'interval_death_symptoms_onset_days', 'intubation_days', 'pmi_h', 'recorded_ethnicity', 'recorded_race', 'C-reactive protein (mg per dL)', 'Chest X-ray', 'Comorbidity', 'Consciousness', 'Disease group', 'Heart rate (BPM)', 'Hospital day', 'Lymphocyte per microL (%)', 'Monocyte prt microL (%)', 'NEWS score', 'Neutrophil per microL (%)', 'O2 saturation', 'O2 supplement', 'Respiratory rate (BPM)', 'Sample ID', 'Severity', 'Systolic BP', 'Temperature', 'Treatment', 'WBC per microL', 'class', 'diabetes_history', 'disease_category', 'eGFR', 'experiment_id', 'hypertension', 'library_id', 'percent.cortex', 'percent.medulla', 'region', 'specimen', 'subclass.l1', 'subclass.l2', 'Collection.ID', 'Genotype', 'Location', 'PCW', 'Pool', 'broad_extfig7A_cell.labels', 'cell.labels', 'lanes', 'CRL', 'Donor_nb', 'Enrichment_fraction', 'Purification', 'Sample', 'cell_name', 'cell_name_detailed', 'cell_type_group', 'doublet_scores_observed_cells', 'condition.l1', 'condition.l2', 'condition.long', 'experiment', 'id', 'library', 'pagoda_k100_infomap_coembed', 'region.l1', 'region.l2', 'state', 'state.l2', 'structure', 'subclass.full', 'subclass.l3', 'tissue_type', 'HbA1c', 'glucose_SI', 'insulin_content', 'louvain_anno_broad', 'louvain_anno_fine', 'BraakStage', 'SampleBatch', 'SampleID', 'clusterAssignment', 'clusterCellType', 'initialClusterAssignments', 'seurat.clusters', 'Processing_Cohort', 'ct_cov', 'disease_state', 'ind_cov', 'TP', 'bonf_pval', 'cryopreserved', 'dig_protocol', 'enrichment', 'high_mito', 'is_doublet', 'lineageSomatic', 'location', 'low_ncounts', 'low_ncounts_high_mito', 'trimester', 'days_since_hospitalized', 'days_since_onset', 'dsm_severity_score', 'dsm_severity_score_group', 'ever_admitted_to_icu', 'material_type', 'outcome', 'severity', 'timepoint', 'author_tissue', 'epilepsy_duration', 'epilepsy_frequency', 'hemisphere', 'smoking', 'RNA_snn_res.1.2', 'cell_label', 'leiden_scVI', 'Annotation', 'Batch', 'Group', 'SARS-CoV-2_PCR', 'Sample_ID', 'Ethnicity', 'Gender', 'Pack Years', 'Phenograph_cluster', 'ProcedureType', 'Procedure_Type', 'Race', 'Smoking Status', 'Stage at Dx', 'Tissue Site', 'Tissue Type', 'Treatment Status', 'cell_lineage', 'histology', 'hta_donor_id', 'hta_id', 'sample_name', 'sample_number', 'ChainStatus', 'DoubletFinderPrediction', 'IGH_D_CALL', 'IGH_FUNCTIONAL', 'IGH_IN_FRAME', 'IGH_JUNCTION_LENGTH', 'IGH_J_CALL', 'IGH_STOP', 'IGH_V_CALL_GENOTYPED', 'IGK_C_Gene', 'IGK_FullLength', 'IGK_Productive', 'IGK_VDJ_Gene', 'IGL_C_Gene', 'IGL_FullLength', 'IGL_Productive', 'IGL_VDJ_Gene', 'ISOTYPE', 'Lineage', 'ScrubletPrediction', 'Status', 'obstructive_sleep_apnea', 'recurrent_tonsillitis', 'Population', 'resolution_0.1', 'resolution_0.2', 'resolution_0.3', 'resolution_0.4', 'resolution_0.5', 'resolution_0.75', 'resolution_1', 'resolution_2', 'resolution_3', 'resolution_4', 'resolution_5', 'area', 'area_long', 'slab', 'celltype_predictions', 'coarse_annot', 'dev_age', 'number_of_individuals_multiplexed', 'origin_M_F', 'technology', 'Age_group', 'Diagnosis', 'Fraction', 'category', 'Dataset', 'BroadCellType', 'COVID-19 Condition', 'Cell.class_reannotated', 'Cell.group', 'disease_general', 'disease_original', 'tissue_original', 'author_cluster', 'author_cluster_name', 'author_sample', 'author_type', 'channel', 'free_annotation', 'magnetic.selection', 'preparation.site', 'astro', 'customclassif', 'percent_hb', 'seq_folder', '10XBatch', 'AgeGroup', 'CauseOfDeath_category', 'ID', 'SequencingPool', 'donor_cause_of_death', 'tissue_handling_interval', 'cell_type_label', 'condition', 'ega_sample_alias', 'filtered_out_cells', 'infomap_cluster', 'brca_status', 'dissociation_minutes', 'donor_age', 'ethnicity_original', 'level0', 'level1', 'level2', 'parity', 'pred_spikein', 'prob_spikein', 'processing_date', 'risk_status', 'sampleID', 'sample_type', 'sample_type_coarse', 'tissue_condition', 'packyears', 'HTAN_Biospecimen_ID', 'HTAN_Participant_ID', 'cell_type_coarse', 'cell_type_general', 'cell_type_med', 'clusters', 'histo', 'procedure', 'author_RNA_snn_res.0.5', 'author_RNA_snn_res.1', 'author_RNA_snn_res.2', 'author_sample_group', 'author_sample_id', 'cell_type_original', 'major_labl', 'patient_region_id', 'expCond', 'GenotypingRef_H18_30_002', 'Binary Stage', 'BiopsyType', 'Broad cell type', 'Cell type', 'CellCycle Phase', 'Stage', 'doublet_id', 'Admission', 'DPS', 'DTF', 'Ventilated', 'cell.type.coarse', 'cell.type.fine', 'singler', 'Project', 'broad_celltype', 'Re-annotation', 'COVID_severity', 'COVID_status', 'Cell_type_annotation_level1', 'Cell_type_annotation_level2', 'Cell_type_annotation_level3', 'Ethnicity_inferred', 'First_symptoms_collection_interval', 'First_symptoms_hospitalisation_interval', 'Kit_version', 'Positive_test_collection_interval', 'Smoker', 'n_counts_total_sarscov2', 'broad_fig1_cell.labels', 'stage', 'cardiacevent_72h', 'cluster', 'fever_symptoms', 'gastrointestinal_symptoms', 'preexisting_diabetes', 'preexisting_heartdisease', 'preexisting_hypertension', 'preexisting_immunocompromisedcondition', 'preexisting_kidneydisease', 'preexisting_lungdisease', 'rank', 'respiratory_symptoms', 'time_point', 'who_d0', 'who_d28', 'who_d3', 'who_d7', 'who_max', 'ATRX', 'EGFR', 'MET', 'MGMT', 'PDGFR', 'PTEN', 'TERT', 'annotation_level_1', 'annotation_level_2', 'annotation_level_3', 'author', 'celltype_original', 'chr1p19q', 'gbmap', 'method', 'p53', 'sector', 'activation', 'bh_pval', 'cell_type_corrected_final', 'scrublet_cluster_score', 'scrublet_score', 'file', 'sort', 'clusters_fine', 'histology_subtype', 'log1p_n_genes_by_counts', 'n_genes', 'n_genes_by_counts', 'age.days.GA', 'age.order', 'cell_source', 'cell_states', 'clusters.high.res', 'clusters.low.res', 'clusters.res.2', 'clusters.res.3', 'integrated_snn_res.0.1', 'integration.groups', 'size.CRL', 'size.NRL', 'annotation', 'broad_type', 'summaryDescription', 'big_cluster', 'Ctype', 'Ctype_Final', 'PresumedFusion', 'detected_nfusion', 'detected_nwt', 'projCtype', 'cd4cd8_status', 'status', 'stimulation_status', 'author_cell_type1', 'author_cell_type2', 'author_cell_type_broad', 'author_cell_type_stroma', 'lesion', 'Age_week', 'Major_cell_type', 'annotated_organ', 'annotated_tissue', 'Annotated Cell Sets', 'Anterior vs Posterior', 'Study', 'Tooth #/Region', 'Tooth Type', 'final_cluster_labels', 'Pan_cell_type', 'annotation_V2', 'inferred state', 'BCR_ChainCombination', 'BCR_ISOTYPE', 'TCR_c_gene', 'TCR_d_gene', 'TCR_j_gene', 'TCR_umis', 'TCR_v_gene', 'final_cluster', 'patient_group', 'TCR/BCR', 'cell_type_in_paper', 'Majority_voting_CellTypist', 'Majority_voting_CellTypist_high', 'Manually_curated_celltype', 'Predicted_labels_CellTypist', 'cell types', 'Age (years)', 'analysis_group', 'disease_setting', 'therapy', 'IGH_UMIS', 'IGK_UMIS', 'IGL_UMIS', 'enriched_cell_types', 'Smoking', 'Source', 'n_counts', 'process', 'donor_type', 'facility', 'flushed', 'sangerID', 'natural_language_annotation', 'transcriptome_weights', 'annotation_weights'\n",
       "    var: 'ensembl_id', 'gene_name'\n",
       "    obsm: 'natural_language_annotation_replicates'\n",
       "    layers: 'replicate_1', 'replicate_2', 'replicate_3', 'replicate_4', 'replicate_5'"
      ]
     },
     "execution_count": 2,
     "metadata": {},
     "output_type": "execute_result"
    }
   ],
   "source": []
  },
  {
   "cell_type": "code",
   "execution_count": 20,
   "metadata": {},
   "outputs": [],
   "source": [
    "pot_batch_key = \"study\""
   ]
  },
  {
   "cell_type": "code",
   "execution_count": 21,
   "metadata": {},
   "outputs": [],
   "source": [
    "# set \"unknown\" as new category\n",
    "adata.obs[pot_batch_key] = adata.obs[pot_batch_key].cat.add_categories(\"unknown\")\n",
    "# Make all that have study as NAN into \"unknown\"\n",
    "adata.obs[pot_batch_key] = adata.obs[pot_batch_key].fillna(\"unknown\")"
   ]
  },
  {
   "cell_type": "code",
   "execution_count": 22,
   "metadata": {},
   "outputs": [
    {
     "data": {
      "text/plain": [
       "study\n",
       "SRP152576    130\n",
       "SRP250381    114\n",
       "SRP107018    101\n",
       "SRP383837     83\n",
       "SRP176466     69\n",
       "            ... \n",
       "SRP199335      1\n",
       "SRP199413      1\n",
       "SRP199577      1\n",
       "SRP199640      1\n",
       "unknown        1\n",
       "Name: count, Length: 3184, dtype: int64"
      ]
     },
     "execution_count": 22,
     "metadata": {},
     "output_type": "execute_result"
    }
   ],
   "source": [
    "adata.obs[pot_batch_key].value_counts()"
   ]
  },
  {
   "cell_type": "code",
   "execution_count": 4,
   "metadata": {},
   "outputs": [
    {
     "ename": "FileNotFoundError",
     "evalue": "[Errno 2] Unable to open file (unable to open file: name = '../data/RNA/processed/cellxgene_pseudo_bulk_3_5k/train.h5ad', errno = 2, error message = 'No such file or directory', flags = 0, o_flags = 0)",
     "output_type": "error",
     "traceback": [
      "\u001b[0;31m---------------------------------------------------------------------------\u001b[0m",
      "\u001b[0;31mFileNotFoundError\u001b[0m                         Traceback (most recent call last)",
      "Cell \u001b[0;32mIn[4], line 5\u001b[0m\n\u001b[1;32m      3\u001b[0m data_dir \u001b[38;5;241m=\u001b[39m \u001b[38;5;124m\"\u001b[39m\u001b[38;5;124m../data/RNA/processed/\u001b[39m\u001b[38;5;124m\"\u001b[39m\n\u001b[1;32m      4\u001b[0m data_name \u001b[38;5;241m=\u001b[39m \u001b[38;5;124m\"\u001b[39m\u001b[38;5;124mcellxgene_pseudo_bulk_3_5k/train.h5ad\u001b[39m\u001b[38;5;124m\"\u001b[39m\n\u001b[0;32m----> 5\u001b[0m adata_processed \u001b[38;5;241m=\u001b[39m \u001b[43manndata\u001b[49m\u001b[38;5;241;43m.\u001b[39;49m\u001b[43mread_h5ad\u001b[49m\u001b[43m(\u001b[49m\u001b[43mdata_dir\u001b[49m\u001b[43m \u001b[49m\u001b[38;5;241;43m+\u001b[39;49m\u001b[43m \u001b[49m\u001b[43mdata_name\u001b[49m\u001b[43m)\u001b[49m\n",
      "File \u001b[0;32m~/repos/adata_hf_datasets/.venv/lib/python3.12/site-packages/anndata/_io/h5ad.py:236\u001b[0m, in \u001b[0;36mread_h5ad\u001b[0;34m(filename, backed, as_sparse, as_sparse_fmt, chunk_size)\u001b[0m\n\u001b[1;32m    228\u001b[0m         \u001b[38;5;28;01mraise\u001b[39;00m \u001b[38;5;167;01mNotImplementedError\u001b[39;00m(\n\u001b[1;32m    229\u001b[0m             \u001b[38;5;124m\"\u001b[39m\u001b[38;5;124mCurrently only `X` and `raw/X` can be read as sparse.\u001b[39m\u001b[38;5;124m\"\u001b[39m\n\u001b[1;32m    230\u001b[0m         )\n\u001b[1;32m    232\u001b[0m rdasp \u001b[38;5;241m=\u001b[39m partial(\n\u001b[1;32m    233\u001b[0m     read_dense_as_sparse, sparse_format\u001b[38;5;241m=\u001b[39mas_sparse_fmt, axis_chunk\u001b[38;5;241m=\u001b[39mchunk_size\n\u001b[1;32m    234\u001b[0m )\n\u001b[0;32m--> 236\u001b[0m \u001b[38;5;28;01mwith\u001b[39;00m \u001b[43mh5py\u001b[49m\u001b[38;5;241;43m.\u001b[39;49m\u001b[43mFile\u001b[49m\u001b[43m(\u001b[49m\u001b[43mfilename\u001b[49m\u001b[43m,\u001b[49m\u001b[43m \u001b[49m\u001b[38;5;124;43m\"\u001b[39;49m\u001b[38;5;124;43mr\u001b[39;49m\u001b[38;5;124;43m\"\u001b[39;49m\u001b[43m)\u001b[49m \u001b[38;5;28;01mas\u001b[39;00m f:\n\u001b[1;32m    238\u001b[0m     \u001b[38;5;28;01mdef\u001b[39;00m\u001b[38;5;250m \u001b[39m\u001b[38;5;21mcallback\u001b[39m(func, elem_name: \u001b[38;5;28mstr\u001b[39m, elem, iospec):\n\u001b[1;32m    239\u001b[0m         \u001b[38;5;28;01mif\u001b[39;00m iospec\u001b[38;5;241m.\u001b[39mencoding_type \u001b[38;5;241m==\u001b[39m \u001b[38;5;124m\"\u001b[39m\u001b[38;5;124manndata\u001b[39m\u001b[38;5;124m\"\u001b[39m \u001b[38;5;129;01mor\u001b[39;00m elem_name\u001b[38;5;241m.\u001b[39mendswith(\u001b[38;5;124m\"\u001b[39m\u001b[38;5;124m/\u001b[39m\u001b[38;5;124m\"\u001b[39m):\n",
      "File \u001b[0;32m~/repos/adata_hf_datasets/.venv/lib/python3.12/site-packages/h5py/_hl/files.py:561\u001b[0m, in \u001b[0;36mFile.__init__\u001b[0;34m(self, name, mode, driver, libver, userblock_size, swmr, rdcc_nslots, rdcc_nbytes, rdcc_w0, track_order, fs_strategy, fs_persist, fs_threshold, fs_page_size, page_buf_size, min_meta_keep, min_raw_keep, locking, alignment_threshold, alignment_interval, meta_block_size, **kwds)\u001b[0m\n\u001b[1;32m    552\u001b[0m     fapl \u001b[38;5;241m=\u001b[39m make_fapl(driver, libver, rdcc_nslots, rdcc_nbytes, rdcc_w0,\n\u001b[1;32m    553\u001b[0m                      locking, page_buf_size, min_meta_keep, min_raw_keep,\n\u001b[1;32m    554\u001b[0m                      alignment_threshold\u001b[38;5;241m=\u001b[39malignment_threshold,\n\u001b[1;32m    555\u001b[0m                      alignment_interval\u001b[38;5;241m=\u001b[39malignment_interval,\n\u001b[1;32m    556\u001b[0m                      meta_block_size\u001b[38;5;241m=\u001b[39mmeta_block_size,\n\u001b[1;32m    557\u001b[0m                      \u001b[38;5;241m*\u001b[39m\u001b[38;5;241m*\u001b[39mkwds)\n\u001b[1;32m    558\u001b[0m     fcpl \u001b[38;5;241m=\u001b[39m make_fcpl(track_order\u001b[38;5;241m=\u001b[39mtrack_order, fs_strategy\u001b[38;5;241m=\u001b[39mfs_strategy,\n\u001b[1;32m    559\u001b[0m                      fs_persist\u001b[38;5;241m=\u001b[39mfs_persist, fs_threshold\u001b[38;5;241m=\u001b[39mfs_threshold,\n\u001b[1;32m    560\u001b[0m                      fs_page_size\u001b[38;5;241m=\u001b[39mfs_page_size)\n\u001b[0;32m--> 561\u001b[0m     fid \u001b[38;5;241m=\u001b[39m \u001b[43mmake_fid\u001b[49m\u001b[43m(\u001b[49m\u001b[43mname\u001b[49m\u001b[43m,\u001b[49m\u001b[43m \u001b[49m\u001b[43mmode\u001b[49m\u001b[43m,\u001b[49m\u001b[43m \u001b[49m\u001b[43muserblock_size\u001b[49m\u001b[43m,\u001b[49m\u001b[43m \u001b[49m\u001b[43mfapl\u001b[49m\u001b[43m,\u001b[49m\u001b[43m \u001b[49m\u001b[43mfcpl\u001b[49m\u001b[43m,\u001b[49m\u001b[43m \u001b[49m\u001b[43mswmr\u001b[49m\u001b[38;5;241;43m=\u001b[39;49m\u001b[43mswmr\u001b[49m\u001b[43m)\u001b[49m\n\u001b[1;32m    563\u001b[0m \u001b[38;5;28;01mif\u001b[39;00m \u001b[38;5;28misinstance\u001b[39m(libver, \u001b[38;5;28mtuple\u001b[39m):\n\u001b[1;32m    564\u001b[0m     \u001b[38;5;28mself\u001b[39m\u001b[38;5;241m.\u001b[39m_libver \u001b[38;5;241m=\u001b[39m libver\n",
      "File \u001b[0;32m~/repos/adata_hf_datasets/.venv/lib/python3.12/site-packages/h5py/_hl/files.py:235\u001b[0m, in \u001b[0;36mmake_fid\u001b[0;34m(name, mode, userblock_size, fapl, fcpl, swmr)\u001b[0m\n\u001b[1;32m    233\u001b[0m     \u001b[38;5;28;01mif\u001b[39;00m swmr \u001b[38;5;129;01mand\u001b[39;00m swmr_support:\n\u001b[1;32m    234\u001b[0m         flags \u001b[38;5;241m|\u001b[39m\u001b[38;5;241m=\u001b[39m h5f\u001b[38;5;241m.\u001b[39mACC_SWMR_READ\n\u001b[0;32m--> 235\u001b[0m     fid \u001b[38;5;241m=\u001b[39m \u001b[43mh5f\u001b[49m\u001b[38;5;241;43m.\u001b[39;49m\u001b[43mopen\u001b[49m\u001b[43m(\u001b[49m\u001b[43mname\u001b[49m\u001b[43m,\u001b[49m\u001b[43m \u001b[49m\u001b[43mflags\u001b[49m\u001b[43m,\u001b[49m\u001b[43m \u001b[49m\u001b[43mfapl\u001b[49m\u001b[38;5;241;43m=\u001b[39;49m\u001b[43mfapl\u001b[49m\u001b[43m)\u001b[49m\n\u001b[1;32m    236\u001b[0m \u001b[38;5;28;01melif\u001b[39;00m mode \u001b[38;5;241m==\u001b[39m \u001b[38;5;124m'\u001b[39m\u001b[38;5;124mr+\u001b[39m\u001b[38;5;124m'\u001b[39m:\n\u001b[1;32m    237\u001b[0m     fid \u001b[38;5;241m=\u001b[39m h5f\u001b[38;5;241m.\u001b[39mopen(name, h5f\u001b[38;5;241m.\u001b[39mACC_RDWR, fapl\u001b[38;5;241m=\u001b[39mfapl)\n",
      "File \u001b[0;32mh5py/_objects.pyx:54\u001b[0m, in \u001b[0;36mh5py._objects.with_phil.wrapper\u001b[0;34m()\u001b[0m\n",
      "File \u001b[0;32mh5py/_objects.pyx:55\u001b[0m, in \u001b[0;36mh5py._objects.with_phil.wrapper\u001b[0;34m()\u001b[0m\n",
      "File \u001b[0;32mh5py/h5f.pyx:102\u001b[0m, in \u001b[0;36mh5py.h5f.open\u001b[0;34m()\u001b[0m\n",
      "\u001b[0;31mFileNotFoundError\u001b[0m: [Errno 2] Unable to open file (unable to open file: name = '../data/RNA/processed/cellxgene_pseudo_bulk_3_5k/train.h5ad', errno = 2, error message = 'No such file or directory', flags = 0, o_flags = 0)"
     ]
    }
   ],
   "source": [
    "import anndata\n",
    "\n",
    "data_dir = \"../data/RNA/processed/\"\n",
    "data_name = \"cellxgene_pseudo_bulk_3_5k/train.h5ad\"\n",
    "adata_processed = anndata.read_h5ad(data_dir + data_name)"
   ]
  },
  {
   "cell_type": "code",
   "execution_count": 14,
   "metadata": {},
   "outputs": [
    {
     "data": {
      "text/plain": [
       "AnnData object with n_obs × n_vars = 35000 × 38030\n",
       "    obs: 'age', 'assay', 'assay_ontology_term_id', 'cell_type', 'cell_type_ontology_term_id', 'cluster_name', 'development_stage', 'development_stage_ontology_term_id', 'disease', 'disease_ontology_term_id', 'is_primary_data', 'lobe', 'organism', 'organism_ontology_term_id', 'orig.ident', 'self_reported_ethnicity', 'self_reported_ethnicity_ontology_term_id', 'sex', 'sex_ontology_term_id', 'suspension_type', 'tissue', 'tissue_ontology_term_id', 'based_on_n_cells', 'abstract', 'dataset_title', 'Sort_id', 'celltype_annotation', 'is_maternal_contaminant', 'original_pub', 'predicted_doublets', 'sample', 'sample_long', 'scvi_clusters', 'Age', 'Amyloid', 'Braak', 'Cell.Types', 'PMI', 'RIN', 'SORT', 'Sample.ID', 'dissection', 'roi', 'sample_id', 'supercluster_term', 'batch', 'cell_cycle', 'cell_description', 'BMI', 'cds', 'donor_region', 'group', 'hash_cluster', 'hash_label', 'hashed', 'lineage', 'pct_counts_hb', 'phase', 'treatment', 'type', 'subcluster_id', 'brain_region', 'cluster_label', 'cortical_area', 'lamina', 'author_cell_type', 'author_cluster_label', 'hca_data_portal_cellsuspension_uuid', 'hca_data_portal_donor_uuid', 'age_group', 'alignment_software', 'bmi_group', 'breast_density', 'broad_cell_type', 'cell_state', 'donor_BMI_at_collection', 'donor_living_at_sample_collection', 'donor_menopausal_status', 'library_uuid', 'mapped_reference_annotation', 'mapped_reference_assembly', 'procedure_group', 'sample_derivation_process', 'sample_preservation_method', 'sample_source', 'sample_uuid', 'sequencing_platform', 'suspension_depleted_cell_types', 'suspension_derivation_process', 'suspension_dissociation_reagent', 'suspension_dissociation_time', 'suspension_percent_cell_viability', 'suspension_uuid', 'tissue_location', 'library_starting_quantity', 'Celltype', 'Cluster', 'celltype', 'seurat_clusters', 'Layer', 'Type', 'age group', 'biosample_id', 'donor_BMI', 'donor_times_pregnant', 'family_history_breast_cancer', 'tyrer_cuzick_lifetime_risk', 'ParticipantID', 'Phase', 'cellSubtype', 'genotype_1', 'gravidityParity', 'menopause', 'numberOfBirths', 'numberOfPregnancies', 'surgeryType', 'CellType', 'Experiment', 'Selection', 'Short_Sample', 'compartment', 'suspension_depletion_factors', 'suspension_enriched_cell_types', 'suspension_enrichment_factors', 'chemistry', 'new_celltype', 'diet', 'digest', 'reported_diseases', 'typeSample', 'author_Cause_of_Death', 'author_Donor_PMI', 'author_FACS_Classification', 'Time', 'donor_time', 'organ', 'ALK_mutation', 'BRAF_mutation', 'EGFR_mutation', 'ERBB2_mutation', 'KRAS_mutation', 'ROS_mutation', 'TP53_mutation', 'ann_coarse', 'ann_fine', 'cell_type_major', 'cell_type_neutro', 'cell_type_neutro_coarse', 'cell_type_predicted', 'cell_type_tumor', 'dataset', 'doublet_status', 'ever_smoker', 'origin', 'origin_fine', 'platform', 'study', 'tumor_stage', 'uicc_stage', 'cell_type_fine', 'cell_type_intermediate', 'cell_type_main', 'initial_clustering', 'interval_death_symptoms_onset_days', 'intubation_days', 'pmi_h', 'recorded_ethnicity', 'recorded_race', 'C-reactive protein (mg per dL)', 'Chest X-ray', 'Comorbidity', 'Consciousness', 'Disease group', 'Heart rate (BPM)', 'Hospital day', 'Lymphocyte per microL (%)', 'Monocyte prt microL (%)', 'NEWS score', 'Neutrophil per microL (%)', 'O2 saturation', 'O2 supplement', 'Respiratory rate (BPM)', 'Sample ID', 'Severity', 'Systolic BP', 'Temperature', 'Treatment', 'WBC per microL', 'class', 'diabetes_history', 'disease_category', 'eGFR', 'experiment_id', 'hypertension', 'library_id', 'percent.cortex', 'percent.medulla', 'region', 'specimen', 'subclass.l1', 'subclass.l2', 'Collection.ID', 'Genotype', 'Location', 'PCW', 'Pool', 'broad_extfig7A_cell.labels', 'cell.labels', 'lanes', 'CRL', 'Donor_nb', 'Enrichment_fraction', 'Purification', 'Sample', 'cell_name', 'cell_name_detailed', 'cell_type_group', 'doublet_scores_observed_cells', 'condition.l1', 'condition.l2', 'condition.long', 'experiment', 'id', 'library', 'pagoda_k100_infomap_coembed', 'region.l1', 'region.l2', 'state', 'state.l2', 'structure', 'subclass.full', 'subclass.l3', 'tissue_type', 'HbA1c', 'glucose_SI', 'insulin_content', 'louvain_anno_broad', 'louvain_anno_fine', 'BraakStage', 'SampleBatch', 'SampleID', 'clusterAssignment', 'clusterCellType', 'initialClusterAssignments', 'seurat.clusters', 'Processing_Cohort', 'ct_cov', 'disease_state', 'ind_cov', 'TP', 'bonf_pval', 'cryopreserved', 'dig_protocol', 'enrichment', 'high_mito', 'is_doublet', 'lineageSomatic', 'location', 'low_ncounts', 'low_ncounts_high_mito', 'trimester', 'days_since_hospitalized', 'days_since_onset', 'dsm_severity_score', 'dsm_severity_score_group', 'ever_admitted_to_icu', 'material_type', 'outcome', 'severity', 'timepoint', 'author_tissue', 'epilepsy_duration', 'epilepsy_frequency', 'hemisphere', 'smoking', 'RNA_snn_res.1.2', 'cell_label', 'leiden_scVI', 'Annotation', 'Batch', 'Group', 'SARS-CoV-2_PCR', 'Sample_ID', 'Ethnicity', 'Gender', 'Pack Years', 'Phenograph_cluster', 'ProcedureType', 'Procedure_Type', 'Race', 'Smoking Status', 'Stage at Dx', 'Tissue Site', 'Tissue Type', 'Treatment Status', 'cell_lineage', 'histology', 'hta_donor_id', 'hta_id', 'sample_name', 'sample_number', 'ChainStatus', 'DoubletFinderPrediction', 'IGH_D_CALL', 'IGH_FUNCTIONAL', 'IGH_IN_FRAME', 'IGH_JUNCTION_LENGTH', 'IGH_J_CALL', 'IGH_STOP', 'IGH_V_CALL_GENOTYPED', 'IGK_C_Gene', 'IGK_FullLength', 'IGK_Productive', 'IGK_VDJ_Gene', 'IGL_C_Gene', 'IGL_FullLength', 'IGL_Productive', 'IGL_VDJ_Gene', 'ISOTYPE', 'Lineage', 'ScrubletPrediction', 'Status', 'obstructive_sleep_apnea', 'recurrent_tonsillitis', 'Population', 'resolution_0.1', 'resolution_0.2', 'resolution_0.3', 'resolution_0.4', 'resolution_0.5', 'resolution_0.75', 'resolution_1', 'resolution_2', 'resolution_3', 'resolution_4', 'resolution_5', 'area', 'area_long', 'slab', 'celltype_predictions', 'coarse_annot', 'dev_age', 'number_of_individuals_multiplexed', 'origin_M_F', 'technology', 'Age_group', 'Diagnosis', 'Fraction', 'category', 'Dataset', 'BroadCellType', 'COVID-19 Condition', 'Cell.class_reannotated', 'Cell.group', 'disease_general', 'disease_original', 'tissue_original', 'author_cluster', 'author_cluster_name', 'author_sample', 'author_type', 'channel', 'free_annotation', 'magnetic.selection', 'preparation.site', 'astro', 'customclassif', 'percent_hb', 'seq_folder', '10XBatch', 'AgeGroup', 'CauseOfDeath_category', 'ID', 'SequencingPool', 'donor_cause_of_death', 'tissue_handling_interval', 'cell_type_label', 'condition', 'ega_sample_alias', 'filtered_out_cells', 'infomap_cluster', 'brca_status', 'dissociation_minutes', 'donor_age', 'ethnicity_original', 'level0', 'level1', 'level2', 'parity', 'pred_spikein', 'prob_spikein', 'processing_date', 'risk_status', 'sampleID', 'sample_type', 'sample_type_coarse', 'tissue_condition', 'packyears', 'HTAN_Biospecimen_ID', 'HTAN_Participant_ID', 'cell_type_coarse', 'cell_type_general', 'cell_type_med', 'clusters', 'histo', 'procedure', 'author_RNA_snn_res.0.5', 'author_RNA_snn_res.1', 'author_RNA_snn_res.2', 'author_sample_group', 'author_sample_id', 'cell_type_original', 'major_labl', 'patient_region_id', 'expCond', 'GenotypingRef_H18_30_002', 'Binary Stage', 'BiopsyType', 'Broad cell type', 'Cell type', 'CellCycle Phase', 'Stage', 'doublet_id', 'Admission', 'DPS', 'DTF', 'Ventilated', 'cell.type.coarse', 'cell.type.fine', 'singler', 'Project', 'broad_celltype', 'Re-annotation', 'COVID_severity', 'COVID_status', 'Cell_type_annotation_level1', 'Cell_type_annotation_level2', 'Cell_type_annotation_level3', 'Ethnicity_inferred', 'First_symptoms_collection_interval', 'First_symptoms_hospitalisation_interval', 'Kit_version', 'Positive_test_collection_interval', 'Smoker', 'n_counts_total_sarscov2', 'broad_fig1_cell.labels', 'stage', 'cardiacevent_72h', 'cluster', 'fever_symptoms', 'gastrointestinal_symptoms', 'preexisting_diabetes', 'preexisting_heartdisease', 'preexisting_hypertension', 'preexisting_immunocompromisedcondition', 'preexisting_kidneydisease', 'preexisting_lungdisease', 'rank', 'respiratory_symptoms', 'time_point', 'who_d0', 'who_d28', 'who_d3', 'who_d7', 'who_max', 'ATRX', 'EGFR', 'MET', 'MGMT', 'PDGFR', 'PTEN', 'TERT', 'annotation_level_1', 'annotation_level_2', 'annotation_level_3', 'author', 'celltype_original', 'chr1p19q', 'gbmap', 'method', 'p53', 'sector', 'activation', 'bh_pval', 'cell_type_corrected_final', 'scrublet_cluster_score', 'scrublet_score', 'file', 'sort', 'clusters_fine', 'histology_subtype', 'log1p_n_genes_by_counts', 'n_genes', 'n_genes_by_counts', 'age.days.GA', 'age.order', 'cell_source', 'cell_states', 'clusters.high.res', 'clusters.low.res', 'clusters.res.2', 'clusters.res.3', 'integrated_snn_res.0.1', 'integration.groups', 'size.CRL', 'size.NRL', 'annotation', 'broad_type', 'summaryDescription', 'big_cluster', 'Ctype', 'Ctype_Final', 'PresumedFusion', 'detected_nfusion', 'detected_nwt', 'projCtype', 'cd4cd8_status', 'status', 'stimulation_status', 'author_cell_type1', 'author_cell_type2', 'author_cell_type_broad', 'author_cell_type_stroma', 'lesion', 'Age_week', 'Major_cell_type', 'annotated_organ', 'annotated_tissue', 'Annotated Cell Sets', 'Anterior vs Posterior', 'Study', 'Tooth #/Region', 'Tooth Type', 'final_cluster_labels', 'Pan_cell_type', 'annotation_V2', 'inferred state', 'BCR_ChainCombination', 'BCR_ISOTYPE', 'TCR_c_gene', 'TCR_d_gene', 'TCR_j_gene', 'TCR_umis', 'TCR_v_gene', 'final_cluster', 'patient_group', 'TCR/BCR', 'cell_type_in_paper', 'Majority_voting_CellTypist', 'Majority_voting_CellTypist_high', 'Manually_curated_celltype', 'Predicted_labels_CellTypist', 'cell types', 'Age (years)', 'analysis_group', 'disease_setting', 'therapy', 'IGH_UMIS', 'IGK_UMIS', 'IGL_UMIS', 'enriched_cell_types', 'Smoking', 'Source', 'n_counts', 'process', 'donor_type', 'facility', 'flushed', 'sangerID', 'natural_language_annotation', 'transcriptome_weights', 'annotation_weights'\n",
       "    var: 'ensembl_id', 'gene_name'\n",
       "    obsm: 'natural_language_annotation_replicates'\n",
       "    layers: 'replicate_1', 'replicate_2', 'replicate_3', 'replicate_4', 'replicate_5'"
      ]
     },
     "execution_count": 14,
     "metadata": {},
     "output_type": "execute_result"
    }
   ],
   "source": [
    "adata"
   ]
  },
  {
   "cell_type": "code",
   "execution_count": 13,
   "metadata": {},
   "outputs": [
    {
     "ename": "KeyError",
     "evalue": "'_scvi_batch'",
     "output_type": "error",
     "traceback": [
      "\u001b[0;31m---------------------------------------------------------------------------\u001b[0m",
      "\u001b[0;31mKeyError\u001b[0m                                  Traceback (most recent call last)",
      "File \u001b[0;32m~/git/adata_hf_datasets/.venv/lib/python3.10/site-packages/pandas/core/indexes/base.py:3805\u001b[0m, in \u001b[0;36mIndex.get_loc\u001b[0;34m(self, key)\u001b[0m\n\u001b[1;32m   3804\u001b[0m \u001b[38;5;28;01mtry\u001b[39;00m:\n\u001b[0;32m-> 3805\u001b[0m     \u001b[38;5;28;01mreturn\u001b[39;00m \u001b[38;5;28;43mself\u001b[39;49m\u001b[38;5;241;43m.\u001b[39;49m\u001b[43m_engine\u001b[49m\u001b[38;5;241;43m.\u001b[39;49m\u001b[43mget_loc\u001b[49m\u001b[43m(\u001b[49m\u001b[43mcasted_key\u001b[49m\u001b[43m)\u001b[49m\n\u001b[1;32m   3806\u001b[0m \u001b[38;5;28;01mexcept\u001b[39;00m \u001b[38;5;167;01mKeyError\u001b[39;00m \u001b[38;5;28;01mas\u001b[39;00m err:\n",
      "File \u001b[0;32mindex.pyx:167\u001b[0m, in \u001b[0;36mpandas._libs.index.IndexEngine.get_loc\u001b[0;34m()\u001b[0m\n",
      "File \u001b[0;32mindex.pyx:196\u001b[0m, in \u001b[0;36mpandas._libs.index.IndexEngine.get_loc\u001b[0;34m()\u001b[0m\n",
      "File \u001b[0;32mpandas/_libs/hashtable_class_helper.pxi:7081\u001b[0m, in \u001b[0;36mpandas._libs.hashtable.PyObjectHashTable.get_item\u001b[0;34m()\u001b[0m\n",
      "File \u001b[0;32mpandas/_libs/hashtable_class_helper.pxi:7089\u001b[0m, in \u001b[0;36mpandas._libs.hashtable.PyObjectHashTable.get_item\u001b[0;34m()\u001b[0m\n",
      "\u001b[0;31mKeyError\u001b[0m: '_scvi_batch'",
      "\nThe above exception was the direct cause of the following exception:\n",
      "\u001b[0;31mKeyError\u001b[0m                                  Traceback (most recent call last)",
      "Cell \u001b[0;32mIn[13], line 1\u001b[0m\n\u001b[0;32m----> 1\u001b[0m \u001b[43madata\u001b[49m\u001b[38;5;241;43m.\u001b[39;49m\u001b[43mobs\u001b[49m\u001b[43m[\u001b[49m\u001b[38;5;124;43m\"\u001b[39;49m\u001b[38;5;124;43m_scvi_batch\u001b[39;49m\u001b[38;5;124;43m\"\u001b[39;49m\u001b[43m]\u001b[49m\u001b[38;5;241m.\u001b[39mvalue_counts()\n",
      "File \u001b[0;32m~/git/adata_hf_datasets/.venv/lib/python3.10/site-packages/pandas/core/frame.py:4102\u001b[0m, in \u001b[0;36mDataFrame.__getitem__\u001b[0;34m(self, key)\u001b[0m\n\u001b[1;32m   4100\u001b[0m \u001b[38;5;28;01mif\u001b[39;00m \u001b[38;5;28mself\u001b[39m\u001b[38;5;241m.\u001b[39mcolumns\u001b[38;5;241m.\u001b[39mnlevels \u001b[38;5;241m>\u001b[39m \u001b[38;5;241m1\u001b[39m:\n\u001b[1;32m   4101\u001b[0m     \u001b[38;5;28;01mreturn\u001b[39;00m \u001b[38;5;28mself\u001b[39m\u001b[38;5;241m.\u001b[39m_getitem_multilevel(key)\n\u001b[0;32m-> 4102\u001b[0m indexer \u001b[38;5;241m=\u001b[39m \u001b[38;5;28;43mself\u001b[39;49m\u001b[38;5;241;43m.\u001b[39;49m\u001b[43mcolumns\u001b[49m\u001b[38;5;241;43m.\u001b[39;49m\u001b[43mget_loc\u001b[49m\u001b[43m(\u001b[49m\u001b[43mkey\u001b[49m\u001b[43m)\u001b[49m\n\u001b[1;32m   4103\u001b[0m \u001b[38;5;28;01mif\u001b[39;00m is_integer(indexer):\n\u001b[1;32m   4104\u001b[0m     indexer \u001b[38;5;241m=\u001b[39m [indexer]\n",
      "File \u001b[0;32m~/git/adata_hf_datasets/.venv/lib/python3.10/site-packages/pandas/core/indexes/base.py:3812\u001b[0m, in \u001b[0;36mIndex.get_loc\u001b[0;34m(self, key)\u001b[0m\n\u001b[1;32m   3807\u001b[0m     \u001b[38;5;28;01mif\u001b[39;00m \u001b[38;5;28misinstance\u001b[39m(casted_key, \u001b[38;5;28mslice\u001b[39m) \u001b[38;5;129;01mor\u001b[39;00m (\n\u001b[1;32m   3808\u001b[0m         \u001b[38;5;28misinstance\u001b[39m(casted_key, abc\u001b[38;5;241m.\u001b[39mIterable)\n\u001b[1;32m   3809\u001b[0m         \u001b[38;5;129;01mand\u001b[39;00m \u001b[38;5;28many\u001b[39m(\u001b[38;5;28misinstance\u001b[39m(x, \u001b[38;5;28mslice\u001b[39m) \u001b[38;5;28;01mfor\u001b[39;00m x \u001b[38;5;129;01min\u001b[39;00m casted_key)\n\u001b[1;32m   3810\u001b[0m     ):\n\u001b[1;32m   3811\u001b[0m         \u001b[38;5;28;01mraise\u001b[39;00m InvalidIndexError(key)\n\u001b[0;32m-> 3812\u001b[0m     \u001b[38;5;28;01mraise\u001b[39;00m \u001b[38;5;167;01mKeyError\u001b[39;00m(key) \u001b[38;5;28;01mfrom\u001b[39;00m\u001b[38;5;250m \u001b[39m\u001b[38;5;21;01merr\u001b[39;00m\n\u001b[1;32m   3813\u001b[0m \u001b[38;5;28;01mexcept\u001b[39;00m \u001b[38;5;167;01mTypeError\u001b[39;00m:\n\u001b[1;32m   3814\u001b[0m     \u001b[38;5;66;03m# If we have a listlike key, _check_indexing_error will raise\u001b[39;00m\n\u001b[1;32m   3815\u001b[0m     \u001b[38;5;66;03m#  InvalidIndexError. Otherwise we fall through and re-raise\u001b[39;00m\n\u001b[1;32m   3816\u001b[0m     \u001b[38;5;66;03m#  the TypeError.\u001b[39;00m\n\u001b[1;32m   3817\u001b[0m     \u001b[38;5;28mself\u001b[39m\u001b[38;5;241m.\u001b[39m_check_indexing_error(key)\n",
      "\u001b[0;31mKeyError\u001b[0m: '_scvi_batch'"
     ]
    }
   ],
   "source": [
    "adata.obs[\"_scvi_batch\"].value_counts()"
   ]
  }
 ],
 "metadata": {
  "kernelspec": {
   "display_name": ".venv",
   "language": "python",
   "name": "python3"
  },
  "language_info": {
   "codemirror_mode": {
    "name": "ipython",
    "version": 3
   },
   "file_extension": ".py",
   "mimetype": "text/x-python",
   "name": "python",
   "nbconvert_exporter": "python",
   "pygments_lexer": "ipython3",
   "version": "3.12.8"
  }
 },
 "nbformat": 4,
 "nbformat_minor": 2
}
