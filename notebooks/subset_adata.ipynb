{
 "cells": [
  {
   "cell_type": "code",
   "execution_count": 14,
   "metadata": {},
   "outputs": [],
   "source": [
    "import anndata\n",
    "\n",
    "data_dir = \"../data/RNA/raw/train/\"\n",
    "data_name = \"cellxgene_pseudo_bulk_full.h5ad\"\n",
    "adata = anndata.read_h5ad(data_dir + data_name)"
   ]
  },
  {
   "cell_type": "code",
   "execution_count": 15,
   "metadata": {},
   "outputs": [],
   "source": [
    "del adata.layers[\"replicate_1\"]\n",
    "del adata.layers[\"replicate_2\"]\n",
    "del adata.layers[\"replicate_3\"]\n",
    "del adata.layers[\"replicate_4\"]\n",
    "del adata.layers[\"replicate_5\"]"
   ]
  },
  {
   "cell_type": "code",
   "execution_count": 26,
   "metadata": {},
   "outputs": [],
   "source": [
    "from adata_hf_datasets.pp.utils import consolidate_low_frequency_categories\n",
    "\n",
    "adata = consolidate_low_frequency_categories(\n",
    "    adata,\n",
    "    columns=[\"dataset_title\", \"assay\", \"tissue\", \"cell_type\"],\n",
    "    threshold=20,\n",
    "    remove=True,\n",
    ")"
   ]
  },
  {
   "cell_type": "code",
   "execution_count": 28,
   "metadata": {},
   "outputs": [
    {
     "ename": "",
     "evalue": "",
     "output_type": "error",
     "traceback": [
      "\u001b[1;31mThe Kernel crashed while executing code in the current cell or a previous cell. \n",
      "\u001b[1;31mPlease review the code in the cell(s) to identify a possible cause of the failure. \n",
      "\u001b[1;31mClick <a href='https://aka.ms/vscodeJupyterKernelCrash'>here</a> for more info. \n",
      "\u001b[1;31mView Jupyter <a href='command:jupyter.viewOutput'>log</a> for further details."
     ]
    }
   ],
   "source": [
    "# get a subset of 350k cells and write to file\n",
    "adata_sub = adata[adata.obs.index[:350000], :]\n",
    "adata_sub.write_h5ad(data_dir + \"cellxgene_pseudo_bulk_350k.h5ad\")"
   ]
  },
  {
   "cell_type": "code",
   "execution_count": 20,
   "metadata": {},
   "outputs": [],
   "source": [
    "pot_batch_key = \"study\""
   ]
  },
  {
   "cell_type": "code",
   "execution_count": 21,
   "metadata": {},
   "outputs": [],
   "source": [
    "# set \"unknown\" as new category\n",
    "adata.obs[pot_batch_key] = adata.obs[pot_batch_key].cat.add_categories(\"unknown\")\n",
    "# Make all that have study as NAN into \"unknown\"\n",
    "adata.obs[pot_batch_key] = adata.obs[pot_batch_key].fillna(\"unknown\")"
   ]
  },
  {
   "cell_type": "code",
   "execution_count": 22,
   "metadata": {},
   "outputs": [
    {
     "data": {
      "text/plain": [
       "study\n",
       "SRP152576    130\n",
       "SRP250381    114\n",
       "SRP107018    101\n",
       "SRP383837     83\n",
       "SRP176466     69\n",
       "            ... \n",
       "SRP199335      1\n",
       "SRP199413      1\n",
       "SRP199577      1\n",
       "SRP199640      1\n",
       "unknown        1\n",
       "Name: count, Length: 3184, dtype: int64"
      ]
     },
     "execution_count": 22,
     "metadata": {},
     "output_type": "execute_result"
    }
   ],
   "source": [
    "adata.obs[pot_batch_key].value_counts()"
   ]
  }
 ],
 "metadata": {
  "kernelspec": {
   "display_name": ".venv",
   "language": "python",
   "name": "python3"
  },
  "language_info": {
   "codemirror_mode": {
    "name": "ipython",
    "version": 3
   },
   "file_extension": ".py",
   "mimetype": "text/x-python",
   "name": "python",
   "nbconvert_exporter": "python",
   "pygments_lexer": "ipython3",
   "version": "3.12.8"
  }
 },
 "nbformat": 4,
 "nbformat_minor": 2
}
